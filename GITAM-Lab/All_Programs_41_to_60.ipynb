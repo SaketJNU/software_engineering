{
 "cells": [
  {
   "cell_type": "markdown",
   "id": "01f84205",
   "metadata": {},
   "source": [
    "#### 41. Write a iterative program  to compute the factorial of  a given number"
   ]
  },
  {
   "cell_type": "markdown",
   "id": "83c35c3b",
   "metadata": {},
   "source": [
    "##### 1st Method"
   ]
  },
  {
   "cell_type": "code",
   "execution_count": 14,
   "id": "4c91c129",
   "metadata": {},
   "outputs": [
    {
     "name": "stdout",
     "output_type": "stream",
     "text": [
      "Enter the number: 5\n",
      "Factorial ovf 5 is 120.\n"
     ]
    }
   ],
   "source": [
    "number = int(input(\"Enter the number: \"))\n",
    "if number < 0:\n",
    "    print(\"Factorial of {} number is not possible.\".format(number));\n",
    "elif number == 0 or number  == 1:\n",
    "    print(\"Factorial ovf {} is {}.\".format(number,  1))\n",
    "else:\n",
    "    factorial =1\n",
    "    num = number\n",
    "    while number>1:\n",
    "        factorial = factorial*number\n",
    "        number = number -1\n",
    "    print(\"Factorial ovf {} is {}.\".format(num,  factorial))"
   ]
  },
  {
   "cell_type": "markdown",
   "id": "8f829c7d",
   "metadata": {},
   "source": [
    "###### Method 2"
   ]
  },
  {
   "cell_type": "code",
   "execution_count": 24,
   "id": "2bc6e064",
   "metadata": {},
   "outputs": [
    {
     "name": "stdout",
     "output_type": "stream",
     "text": [
      "Enter the number: 5\n",
      "Factorial ovf 5 is 120.\n"
     ]
    }
   ],
   "source": [
    "def factorial_number(number):\n",
    "    if number < 0:\n",
    "        return \"None\"\n",
    "    elif number == 0 or number  == 1:\n",
    "        return 1\n",
    "    else:\n",
    "        factorial =1\n",
    "        num = number\n",
    "        while number>1:\n",
    "            factorial = factorial*number\n",
    "            number = number -1\n",
    "        return factorial  \n",
    "# Drive code \n",
    "number = int(input(\"Enter the number: \"))\n",
    "print(\"Factorial ovf {} is {}.\".format(number,  factorial_number(number)))"
   ]
  },
  {
   "cell_type": "code",
   "execution_count": null,
   "id": "cab0418f",
   "metadata": {},
   "outputs": [],
   "source": []
  },
  {
   "cell_type": "code",
   "execution_count": null,
   "id": "4e915e19",
   "metadata": {},
   "outputs": [],
   "source": []
  },
  {
   "cell_type": "code",
   "execution_count": null,
   "id": "4ac6ebcf",
   "metadata": {},
   "outputs": [],
   "source": []
  }
 ],
 "metadata": {
  "kernelspec": {
   "display_name": "Python 3 (ipykernel)",
   "language": "python",
   "name": "python3"
  },
  "language_info": {
   "codemirror_mode": {
    "name": "ipython",
    "version": 3
   },
   "file_extension": ".py",
   "mimetype": "text/x-python",
   "name": "python",
   "nbconvert_exporter": "python",
   "pygments_lexer": "ipython3",
   "version": "3.11.5"
  }
 },
 "nbformat": 4,
 "nbformat_minor": 5
}
