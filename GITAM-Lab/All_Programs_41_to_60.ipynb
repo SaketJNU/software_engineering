{
 "cells": [
  {
   "cell_type": "markdown",
   "id": "e126fbaa",
   "metadata": {},
   "source": [
    "#### 41. Write a iterative program  to compute the factorial of  a given number"
   ]
  },
  {
   "cell_type": "markdown",
   "id": "9660802b",
   "metadata": {},
   "source": [
    "##### 1st Method"
   ]
  },
  {
   "cell_type": "code",
   "execution_count": 14,
   "id": "0bf33883",
   "metadata": {},
   "outputs": [
    {
     "name": "stdout",
     "output_type": "stream",
     "text": [
      "Enter the number: 5\n",
      "Factorial ovf 5 is 120.\n"
     ]
    }
   ],
   "source": [
    "number = int(input(\"Enter the number: \"))\n",
    "if number < 0:\n",
    "    print(\"Factorial of {} number is not possible.\".format(number));\n",
    "elif number == 0 or number  == 1:\n",
    "    print(\"Factorial ovf {} is {}.\".format(number,  1))\n",
    "else:\n",
    "    factorial =1\n",
    "    num = number\n",
    "    while number>1:\n",
    "        factorial = factorial*number\n",
    "        number = number -1\n",
    "    print(\"Factorial ovf {} is {}.\".format(num,  factorial))"
   ]
  },
  {
   "cell_type": "markdown",
   "id": "1d1af91b",
   "metadata": {},
   "source": [
    "###### Method 2"
   ]
  },
  {
   "cell_type": "code",
   "execution_count": 24,
   "id": "3eb20415",
   "metadata": {},
   "outputs": [
    {
     "name": "stdout",
     "output_type": "stream",
     "text": [
      "Enter the number: 5\n",
      "Factorial ovf 5 is 120.\n"
     ]
    }
   ],
   "source": [
    "def factorial_number(number):\n",
    "    if number < 0:\n",
    "        return \"None\"\n",
    "    elif number == 0 or number  == 1:\n",
    "        return 1\n",
    "    else:\n",
    "        factorial =1\n",
    "        num = number\n",
    "        while number>1:\n",
    "            factorial = factorial*number\n",
    "            number = number -1\n",
    "        return factorial  \n",
    "# Drive code \n",
    "number = int(input(\"Enter the number: \"))\n",
    "print(\"Factorial ovf {} is {}.\".format(number,  factorial_number(number)))"
   ]
  },
  {
   "cell_type": "markdown",
   "id": "53f6ad63",
   "metadata": {},
   "source": [
    "#### 43. Write a recurssive program to compute the factorial of a given number."
   ]
  },
  {
   "cell_type": "code",
   "execution_count": 35,
   "id": "1efad9d8",
   "metadata": {},
   "outputs": [
    {
     "name": "stdout",
     "output_type": "stream",
     "text": [
      "Enter the number5\n",
      "The factorial of the given number  5 is 120\n"
     ]
    }
   ],
   "source": [
    "def compute_factorial (number):\n",
    "    fact = 1\n",
    "    if  number < 0:\n",
    "        return \"None\"\n",
    "    elif number  == 0 or number  == 1:\n",
    "        return 1\n",
    "    else:\n",
    "        return number * compute_factorial(number -1)   # Recurrssion\n",
    "    \n",
    "# Driver code\n",
    "number = int(input(\"Enter the number\"))\n",
    "print(\"The factorial of the given number  {} is {}\".format(number, compute_factorial (number) ))"
   ]
  },
  {
   "cell_type": "code",
   "execution_count": null,
   "id": "51c6b486",
   "metadata": {},
   "outputs": [],
   "source": []
  },
  {
   "cell_type": "code",
   "execution_count": null,
   "id": "08a1297d",
   "metadata": {},
   "outputs": [],
   "source": []
  },
  {
   "cell_type": "code",
   "execution_count": null,
   "id": "87ddf99f",
   "metadata": {},
   "outputs": [],
   "source": []
  },
  {
   "cell_type": "code",
   "execution_count": null,
   "id": "ed4b318b",
   "metadata": {},
   "outputs": [],
   "source": []
  },
  {
   "cell_type": "code",
   "execution_count": null,
   "id": "29c671bc",
   "metadata": {},
   "outputs": [],
   "source": []
  },
  {
   "cell_type": "code",
   "execution_count": null,
   "id": "c30b84b0",
   "metadata": {},
   "outputs": [],
   "source": []
  },
  {
   "cell_type": "code",
   "execution_count": null,
   "id": "f41513ed",
   "metadata": {},
   "outputs": [],
   "source": []
  }
 ],
 "metadata": {
  "kernelspec": {
   "display_name": "Python 3 (ipykernel)",
   "language": "python",
   "name": "python3"
  },
  "language_info": {
   "codemirror_mode": {
    "name": "ipython",
    "version": 3
   },
   "file_extension": ".py",
   "mimetype": "text/x-python",
   "name": "python",
   "nbconvert_exporter": "python",
   "pygments_lexer": "ipython3",
   "version": "3.11.5"
  }
 },
 "nbformat": 4,
 "nbformat_minor": 5
}
