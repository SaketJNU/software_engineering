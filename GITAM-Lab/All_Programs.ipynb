{
 "cells": [
  {
   "cell_type": "markdown",
   "id": "650012c8",
   "metadata": {},
   "source": [
    "### Python  programs as per given list ###"
   ]
  },
  {
   "cell_type": "markdown",
   "id": "7f1637dd",
   "metadata": {},
   "source": [
    "#### 1. Write a Python program to print Hello **Input Name**. ####\n"
   ]
  },
  {
   "cell_type": "code",
   "execution_count": 13,
   "id": "c4cdd0c3",
   "metadata": {},
   "outputs": [],
   "source": [
    "def print_hello(name):                                           # function to print Hello name\n",
    "    print(\"Hello {} in the Python program Lab.\".format(name))"
   ]
  },
  {
   "cell_type": "code",
   "execution_count": 15,
   "id": "5619f61b",
   "metadata": {},
   "outputs": [
    {
     "name": "stdout",
     "output_type": "stream",
     "text": [
      "Please enter the name: \n",
      "Sakdet\n",
      "Hello Sakdet in the Python program Lab.\n"
     ]
    }
   ],
   "source": [
    "print(\"Please enter the name: \")\n",
    "name = input()\n",
    "print_hello(name)                                                # Function call "
   ]
  },
  {
   "cell_type": "markdown",
   "id": "cebb71fd",
   "metadata": {},
   "source": [
    "#### 2. Write a Python Program for factorial of a number. ####"
   ]
  },
  {
   "cell_type": "code",
   "execution_count": 28,
   "id": "2d5896e1",
   "metadata": {},
   "outputs": [
    {
     "name": "stdout",
     "output_type": "stream",
     "text": [
      "Please enter a number: \n",
      "4\n",
      "Factorial of 4 is 24.\n"
     ]
    }
   ],
   "source": [
    "def compute_factaorial(number):\n",
    "    factorial = 1\n",
    "    if number==0:\n",
    "        return factorial;\n",
    "    elif number < 0:\n",
    "        print(\"Factorial of entered number {} is not defined.\".format(number));\n",
    "    else:\n",
    "        while(number > 0):\n",
    "            factorial = factorial * number\n",
    "            number = number -1\n",
    "        return factorial;\n",
    "# From here we can write executable codes\n",
    "print(\"Please enter a number: \")\n",
    "number = int(input())\n",
    "fact = compute_factaorial(number)\n",
    "print(\"Factorial of {} is {}.\".format(int(number), fact))"
   ]
  },
  {
   "cell_type": "code",
   "execution_count": null,
   "id": "5a147224",
   "metadata": {},
   "outputs": [],
   "source": []
  },
  {
   "cell_type": "code",
   "execution_count": null,
   "id": "a05544a1",
   "metadata": {},
   "outputs": [],
   "source": []
  }
 ],
 "metadata": {
  "kernelspec": {
   "display_name": "Python 3 (ipykernel)",
   "language": "python",
   "name": "python3"
  },
  "language_info": {
   "codemirror_mode": {
    "name": "ipython",
    "version": 3
   },
   "file_extension": ".py",
   "mimetype": "text/x-python",
   "name": "python",
   "nbconvert_exporter": "python",
   "pygments_lexer": "ipython3",
   "version": "3.11.5"
  }
 },
 "nbformat": 4,
 "nbformat_minor": 5
}
