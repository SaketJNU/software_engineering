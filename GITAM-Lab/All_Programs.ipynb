{
 "cells": [
  {
   "cell_type": "markdown",
   "id": "1fd64903",
   "metadata": {},
   "source": [
    "### Python  programs as per given list ###"
   ]
  },
  {
   "cell_type": "markdown",
   "id": "114ec74e",
   "metadata": {},
   "source": [
    "#### 1. Write a Python program to print Hello **Input Name**. ####\n"
   ]
  },
  {
   "cell_type": "code",
   "execution_count": 1,
   "id": "871ecd24",
   "metadata": {},
   "outputs": [
    {
     "name": "stdout",
     "output_type": "stream",
     "text": [
      "Please enter the name: \n",
      "Dr Saket\n",
      "Hello Dr Saket in the Python program Lab.\n"
     ]
    }
   ],
   "source": [
    "def print_hello(name):                                           # function to print Hello name\n",
    "    print(\"Hello {} in the Python program Lab.\".format(name))\n",
    "    return\n",
    "\n",
    "# Driver code\n",
    "\n",
    "print(\"Please enter the name: \")\n",
    "name = input()\n",
    "print_hello(name)                                                # Function call "
   ]
  },
  {
   "cell_type": "markdown",
   "id": "de12672d",
   "metadata": {},
   "source": [
    "#### 2. Write a Python Program for factorial of a number. ####"
   ]
  },
  {
   "cell_type": "code",
   "execution_count": 2,
   "id": "7c85fc54",
   "metadata": {},
   "outputs": [
    {
     "name": "stdout",
     "output_type": "stream",
     "text": [
      "Please enter a number: \n",
      "5\n",
      "Factorial of 5 is 120.\n"
     ]
    }
   ],
   "source": [
    "def compute_factaorial(number):\n",
    "    factorial = 1\n",
    "    if number==0:\n",
    "        return factorial;\n",
    "    elif number < 0:\n",
    "        print(\"Factorial of entered number {} is not defined.\".format(number));\n",
    "    else:\n",
    "        while(number > 0):\n",
    "            factorial = factorial * number\n",
    "            number = number -1\n",
    "        return factorial;\n",
    "# Driver code\n",
    "# From here we can write executable codes\n",
    "print(\"Please enter a number: \")\n",
    "number = int(input())\n",
    "fact = compute_factaorial(number)\n",
    "print(\"Factorial of {} is {}.\".format(int(number), fact))"
   ]
  },
  {
   "cell_type": "markdown",
   "id": "1d060590",
   "metadata": {},
   "source": [
    "#### 3. Write a Python program which accepts the radius of a circle from the user and compute the area. ####"
   ]
  },
  {
   "cell_type": "code",
   "execution_count": 3,
   "id": "762b5dc5",
   "metadata": {},
   "outputs": [
    {
     "name": "stdout",
     "output_type": "stream",
     "text": [
      "Enter the radius of the circle: \n",
      "1\n",
      "Area of the circle wirh radius 1.0 is 3.14.\n"
     ]
    }
   ],
   "source": [
    "# Method 1\n",
    "def compute_circle_area(radius):\n",
    "    print(\"Area of the circle wirh radius {} is {}.\".format(radius, 3.14*radius*radius))\n",
    "    return\n",
    "print(\"Enter the radius of the circle: \")\n",
    "radius = float(input())\n",
    "compute_circle_area(radius)"
   ]
  },
  {
   "cell_type": "code",
   "execution_count": 4,
   "id": "d1a047ae",
   "metadata": {},
   "outputs": [
    {
     "name": "stdout",
     "output_type": "stream",
     "text": [
      "Enter the radius of the circle: \n",
      "2\n",
      "Area of the circle wirh radius 2.0 is 12.56.\n"
     ]
    }
   ],
   "source": [
    "# Method 2\n",
    "def compute_circle_area(radius):\n",
    "    print(\"Area of the circle wirh radius {} is {}.\".format(radius, 3.14*pow(radius,2)))\n",
    "    return\n",
    "\n",
    "# Driver code\n",
    "\n",
    "print(\"Enter the radius of the circle: \")\n",
    "radius = float(input())\n",
    "compute_circle_area(radius)"
   ]
  },
  {
   "cell_type": "markdown",
   "id": "96462c39",
   "metadata": {},
   "source": [
    "#### 4. Write a Python program to print the calendar of a given month and year. ####"
   ]
  },
  {
   "cell_type": "code",
   "execution_count": 5,
   "id": "65d69a61",
   "metadata": {},
   "outputs": [
    {
     "name": "stdout",
     "output_type": "stream",
     "text": [
      "Enter the year: 2000\n",
      "Enter the month (1-12): 3\n",
      "Calendar for 2000-3\n",
      "     March 2000\n",
      "Mo Tu We Th Fr Sa Su\n",
      "       1  2  3  4  5\n",
      " 6  7  8  9 10 11 12\n",
      "13 14 15 16 17 18 19\n",
      "20 21 22 23 24 25 26\n",
      "27 28 29 30 31\n",
      "\n"
     ]
    }
   ],
   "source": [
    "import calendar\n",
    "\n",
    "def print_calendar(year, month):\n",
    "    if month < 1 or month > 12:\n",
    "        print(\"Invalid month. Please enter a number between 1 and 12.\")\n",
    "    else:\n",
    "        cal = calendar.month(year, month)\n",
    "        print(\"Calendar for {}-{}\".format(year, month))\n",
    "        print(cal)\n",
    "    return\n",
    "\n",
    "# Driver code\n",
    "year = int(input(\"Enter the year: \"))\n",
    "month = int(input(\"Enter the month (1-12): \"))\n",
    "print_calendar(year, month)"
   ]
  },
  {
   "cell_type": "markdown",
   "id": "1c7d9a35",
   "metadata": {},
   "source": [
    "#### 5. Write a Python Program for simple interest. ####"
   ]
  },
  {
   "cell_type": "code",
   "execution_count": 6,
   "id": "04f95e7e",
   "metadata": {},
   "outputs": [
    {
     "name": "stdout",
     "output_type": "stream",
     "text": [
      "Enter the principal amountis\n",
      "100\n",
      "Enter the time period is\n",
      "2\n",
      "Enter the rate of interest is\n",
      "10\n",
      "The Simple Interest is 20.0\n"
     ]
    }
   ],
   "source": [
    "def simple_interest(p,t,r):\n",
    "    si = (p * t * r)/100\n",
    "    print('The Simple Interest is {}'.format(si))\n",
    "    return \n",
    "    \n",
    "# Driver code\n",
    "print('Enter the principal amountis')\n",
    "p = float(input()) \n",
    "print('Enter the time period is')\n",
    "t = float(input())\n",
    "print('Enter the rate of interest is')\n",
    "r = float(input())\n",
    "simple_interest(p, t, r)"
   ]
  },
  {
   "cell_type": "markdown",
   "id": "736c0a9d",
   "metadata": {},
   "source": [
    "#### 6. Write a Python Program for compound interest. ####"
   ]
  },
  {
   "cell_type": "code",
   "execution_count": 7,
   "id": "5cb03ec2",
   "metadata": {},
   "outputs": [
    {
     "name": "stdout",
     "output_type": "stream",
     "text": [
      "Enter the principal amountis\n",
      "10000\n",
      "Enter the time period is\n",
      "3\n",
      "Enter the rate of interest is\n",
      "13\n",
      "The Simple Interest is 3900.0\n",
      "Compound interest is 4685.337134515648\n"
     ]
    }
   ],
   "source": [
    "def compound_interest(principal, rate, time):\n",
    " \n",
    "    # Calculates compound interest\n",
    "    Amount = principal * (pow((1 + rate / 100), time))\n",
    "    CI = Amount - principal\n",
    "    print(\"Compound interest is {}\".format(CI))\n",
    "    return\n",
    " \n",
    "# Driver Code\n",
    "print('Enter the principal amountis')\n",
    "p = float(input()) \n",
    "print('Enter the time period is')\n",
    "t = float(input())\n",
    "print('Enter the rate of interest is')\n",
    "r = float(input())\n",
    "simple_interest(p, t, r)\n",
    "compound_interest(p, t, r)"
   ]
  },
  {
   "cell_type": "markdown",
   "id": "c39914e7",
   "metadata": {},
   "source": [
    "#### 7. Write a Python program to calculate the length of a string. ####"
   ]
  },
  {
   "cell_type": "code",
   "execution_count": 8,
   "id": "e2400688",
   "metadata": {},
   "outputs": [
    {
     "name": "stdout",
     "output_type": "stream",
     "text": [
      "Enter the string: \n",
      "This is a Python Programming lab\n",
      "The length of the given string This is a Python Programming lab is 32\n"
     ]
    }
   ],
   "source": [
    "print(\"Enter the string: \")\n",
    "str = input()\n",
    "print(\"The length of the given string {} is {}\".format(str, len(str)))"
   ]
  },
  {
   "cell_type": "markdown",
   "id": "f555d11a",
   "metadata": {},
   "source": [
    "#### 8. Write a Python program to split and join a string. ####"
   ]
  },
  {
   "cell_type": "code",
   "execution_count": 15,
   "id": "1e1427a7",
   "metadata": {},
   "outputs": [
    {
     "name": "stdout",
     "output_type": "stream",
     "text": [
      "Please enter the string\n",
      "This is a Python Programming Lab\n",
      "This\n",
      "is\n",
      "a\n",
      "Python\n",
      "Programming\n",
      "Lab\n",
      "Joined string is without space ---------------\n",
      " ThisisaPythonProgrammingLab\n",
      "Joined string is with space ---------------\n",
      " This is a Python Programming Lab\n"
     ]
    }
   ],
   "source": [
    "print(\"Please enter the string\")\n",
    "str = input()                                                           # read the input string\n",
    "split_str = str.split(\" \")                                              # splitted the string with blanck space\n",
    "for s in split_str:\n",
    "    print(s)\n",
    "joined_str = \"\".join(split_str)\n",
    "print(\"Joined string is without space ---------------\\n\", joined_str)\n",
    "joined_str1 = \" \".join(split_str)\n",
    "print(\"Joined string is with space ---------------\\n\", joined_str1)"
   ]
  },
  {
   "cell_type": "markdown",
   "id": "10962908",
   "metadata": {},
   "source": [
    "#### 9. Write a Python program to demonstrate of accessing the string- By using Positive Indexing. ####"
   ]
  },
  {
   "cell_type": "code",
   "execution_count": 19,
   "id": "0689d79e",
   "metadata": {},
   "outputs": [
    {
     "name": "stdout",
     "output_type": "stream",
     "text": [
      "Enter the string:\n",
      "There is a test of string characters\n",
      "first 5 characters of the string are:  There\n",
      "Last three characters of the string are:  ers\n"
     ]
    }
   ],
   "source": [
    "print(\"Enter the string:\")\n",
    "str = input()\n",
    "print(\"first 5 characters of the string are: \", str[0:5])\n",
    "print(\"Last three characters of the string are: \", str[len(str)-3 :len(str)])"
   ]
  },
  {
   "cell_type": "markdown",
   "id": "97e2681e",
   "metadata": {},
   "source": [
    "#### 10. Write a Python program to demonstrate of accessing the string- By using Negative Indexing. ####"
   ]
  },
  {
   "cell_type": "code",
   "execution_count": 24,
   "id": "17a10341",
   "metadata": {},
   "outputs": [
    {
     "name": "stdout",
     "output_type": "stream",
     "text": [
      "Enter the string:\n",
      "This is string character\n",
      "Last character of the string is:  r\n",
      "Last 5 character of the string is:  racte\n"
     ]
    }
   ],
   "source": [
    "print(\"Enter the string:\")\n",
    "str = input()\n",
    "print(\"Last character of the string is: \", str[-1])\n",
    "print(\"Last 5 character of the string is: \", str[-6 : -1])"
   ]
  },
  {
   "cell_type": "markdown",
   "id": "77549109",
   "metadata": {},
   "source": [
    "#### 11. Write a Python program to multiplies all the items in a list. ####"
   ]
  },
  {
   "cell_type": "code",
   "execution_count": 29,
   "id": "17ff23bb",
   "metadata": {},
   "outputs": [
    {
     "name": "stdout",
     "output_type": "stream",
     "text": [
      "Given List of integer is [2, 3, 4, 5] and their product is 120.\n"
     ]
    }
   ],
   "source": [
    "int_list = [2, 3, 4, 5]\n",
    "int_mul = 1\n",
    "for i in int_list:\n",
    "   int_mul = int_mul*i\n",
    "print(\"Given List of integer is {} and their product is {}.\".format(int_list, int_mul))"
   ]
  },
  {
   "cell_type": "markdown",
   "id": "52f79850",
   "metadata": {},
   "source": [
    "#### 12. Write a Python program to Reverse a linked list. (This  will come later) ####    "
   ]
  },
  {
   "cell_type": "markdown",
   "id": "1a5cdaf7",
   "metadata": {},
   "source": [
    "#### 13. Write a Python program to find the smallest number in a list number in a list. ####"
   ]
  },
  {
   "cell_type": "code",
   "execution_count": 32,
   "id": "215b38a1",
   "metadata": {},
   "outputs": [
    {
     "name": "stdout",
     "output_type": "stream",
     "text": [
      "the least element is the list is 1\n"
     ]
    }
   ],
   "source": [
    "def find_least(newlist):\n",
    "    least = newlist[0]\n",
    "    for i in newlist:\n",
    "        if least>i:\n",
    "            least = i\n",
    "    return least\n",
    "\n",
    "# Driver code\n",
    "newlist = [2, 3, 4, 5, 10, 45, 23, 12, 1, 56, 67]\n",
    "print(\"the least element is the list is {}\".format(find_least(newlist)))"
   ]
  },
  {
   "cell_type": "markdown",
   "id": "430c7f5c",
   "metadata": {},
   "source": [
    "####  14. Write a Python program to find the greatest number in a list number in a list. ####"
   ]
  },
  {
   "cell_type": "code",
   "execution_count": 35,
   "id": "949b719e",
   "metadata": {},
   "outputs": [
    {
     "name": "stdout",
     "output_type": "stream",
     "text": [
      "the greatest element is the list is 93\n"
     ]
    }
   ],
   "source": [
    "def find_greatest(newlist):\n",
    "    greatest = newlist[0]\n",
    "    for i in newlist:\n",
    "        if greatest < i:\n",
    "            greatest = i\n",
    "    return greatest\n",
    "\n",
    "# Driver code\n",
    "newlist = [2, 3, 4, 5, 10, 45, 93, 12, 1, 56, 67]\n",
    "print(\"the greatest element is the list is {}\".format(find_greatest(newlist)))"
   ]
  },
  {
   "cell_type": "markdown",
   "id": "85b6f102",
   "metadata": {},
   "source": [
    "#### 15. Write a Python program to sort (ascending order) a dictionary by value. ####"
   ]
  },
  {
   "cell_type": "code",
   "execution_count": 39,
   "id": "7f48a5d3",
   "metadata": {},
   "outputs": [
    {
     "name": "stdout",
     "output_type": "stream",
     "text": [
      "Entered dictionary is:  {'English': 5, 'Maths': 3, 'Science': 7, 'History': 1}\n",
      "\n",
      "Sorted dictionary by values is:  [1, 3, 5, 7]\n"
     ]
    }
   ],
   "source": [
    "def sort_dict_by_values(new_dict):\n",
    "    sorted_dict = sorted(new_dict.values())\n",
    "    return sorted_dict\n",
    "\n",
    "# Driver code\n",
    "\n",
    "new_dict = {\n",
    "    \"English\":  5,\n",
    "    \"Maths\"  :  3,\n",
    "    \"Science\":  7,\n",
    "    \"History\":  1\n",
    "}\n",
    "\n",
    "print(\"Entered dictionary is: \", new_dict)\n",
    "print(\"\\nSorted dictionary by values is: \", sort_dict_by_values(new_dict))"
   ]
  },
  {
   "cell_type": "markdown",
   "id": "235d0cd0",
   "metadata": {},
   "source": [
    "#### 16. Write a Python program to sort (descending order) a dictionary by value. ####"
   ]
  },
  {
   "cell_type": "code",
   "execution_count": 42,
   "id": "719c19f3",
   "metadata": {},
   "outputs": [
    {
     "name": "stdout",
     "output_type": "stream",
     "text": [
      "Entered dictionary is:  {'English': 5, 'Maths': 3, 'Science': 7, 'History': 1}\n"
     ]
    },
    {
     "ename": "NameError",
     "evalue": "name 'TRue' is not defined",
     "output_type": "error",
     "traceback": [
      "\u001b[1;31m---------------------------------------------------------------------------\u001b[0m",
      "\u001b[1;31mNameError\u001b[0m                                 Traceback (most recent call last)",
      "Cell \u001b[1;32mIn[42], line 15\u001b[0m\n\u001b[0;32m      7\u001b[0m new_dict \u001b[38;5;241m=\u001b[39m {\n\u001b[0;32m      8\u001b[0m     \u001b[38;5;124m\"\u001b[39m\u001b[38;5;124mEnglish\u001b[39m\u001b[38;5;124m\"\u001b[39m:  \u001b[38;5;241m5\u001b[39m,\n\u001b[0;32m      9\u001b[0m     \u001b[38;5;124m\"\u001b[39m\u001b[38;5;124mMaths\u001b[39m\u001b[38;5;124m\"\u001b[39m  :  \u001b[38;5;241m3\u001b[39m,\n\u001b[0;32m     10\u001b[0m     \u001b[38;5;124m\"\u001b[39m\u001b[38;5;124mScience\u001b[39m\u001b[38;5;124m\"\u001b[39m:  \u001b[38;5;241m7\u001b[39m,\n\u001b[0;32m     11\u001b[0m     \u001b[38;5;124m\"\u001b[39m\u001b[38;5;124mHistory\u001b[39m\u001b[38;5;124m\"\u001b[39m:  \u001b[38;5;241m1\u001b[39m\n\u001b[0;32m     12\u001b[0m }\n\u001b[0;32m     14\u001b[0m \u001b[38;5;28mprint\u001b[39m(\u001b[38;5;124m\"\u001b[39m\u001b[38;5;124mEntered dictionary is: \u001b[39m\u001b[38;5;124m\"\u001b[39m, new_dict)\n\u001b[1;32m---> 15\u001b[0m \u001b[38;5;28mprint\u001b[39m(\u001b[38;5;124m\"\u001b[39m\u001b[38;5;130;01m\\n\u001b[39;00m\u001b[38;5;124mSorted dictionary by values is: \u001b[39m\u001b[38;5;124m\"\u001b[39m, sort_dict_by_values(new_dict))\n",
      "Cell \u001b[1;32mIn[42], line 2\u001b[0m, in \u001b[0;36msort_dict_by_values\u001b[1;34m(new_dict)\u001b[0m\n\u001b[0;32m      1\u001b[0m \u001b[38;5;28;01mdef\u001b[39;00m \u001b[38;5;21msort_dict_by_values\u001b[39m(new_dict):\n\u001b[1;32m----> 2\u001b[0m     sorted_dict \u001b[38;5;241m=\u001b[39m \u001b[38;5;28msorted\u001b[39m(new_dict\u001b[38;5;241m.\u001b[39mvalues(), reverse\u001b[38;5;241m=\u001b[39mTRue)\n\u001b[0;32m      3\u001b[0m     \u001b[38;5;28;01mreturn\u001b[39;00m sorted_dict\n",
      "\u001b[1;31mNameError\u001b[0m: name 'TRue' is not defined"
     ]
    }
   ],
   "source": [
    "def sort_dict_by_values(new_dict):\n",
    "    sorted_dict = sorted(new_dict.values(), reverse=TRue)\n",
    "    return sorted_dict\n",
    "\n",
    "# Driver code\n",
    "\n",
    "new_dict = {\n",
    "    \"English\":  5,\n",
    "    \"Maths\"  :  3,\n",
    "    \"Science\":  7,\n",
    "    \"History\":  1\n",
    "}\n",
    "\n",
    "print(\"Entered dictionary is: \", new_dict)\n",
    "print(\"\\nSorted dictionary by values is: \", sort_dict_by_values(new_dict))"
   ]
  },
  {
   "cell_type": "code",
   "execution_count": null,
   "id": "f713bcd3",
   "metadata": {},
   "outputs": [],
   "source": []
  }
 ],
 "metadata": {
  "kernelspec": {
   "display_name": "Python 3 (ipykernel)",
   "language": "python",
   "name": "python3"
  },
  "language_info": {
   "codemirror_mode": {
    "name": "ipython",
    "version": 3
   },
   "file_extension": ".py",
   "mimetype": "text/x-python",
   "name": "python",
   "nbconvert_exporter": "python",
   "pygments_lexer": "ipython3",
   "version": "3.11.5"
  }
 },
 "nbformat": 4,
 "nbformat_minor": 5
}
