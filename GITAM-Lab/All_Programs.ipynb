{
 "cells": [
  {
   "cell_type": "markdown",
   "id": "1fd64903",
   "metadata": {},
   "source": [
    "### Python  programs as per given list ###"
   ]
  },
  {
   "cell_type": "markdown",
   "id": "114ec74e",
   "metadata": {},
   "source": [
    "#### 1. Write a Python program to print Hello **Input Name**. ####\n"
   ]
  },
  {
   "cell_type": "code",
   "execution_count": 1,
   "id": "871ecd24",
   "metadata": {},
   "outputs": [
    {
     "name": "stdout",
     "output_type": "stream",
     "text": [
      "Please enter the name: \n",
      "Dr Saket\n",
      "Hello Dr Saket in the Python program Lab.\n"
     ]
    }
   ],
   "source": [
    "def print_hello(name):                                           # function to print Hello name\n",
    "    print(\"Hello {} in the Python program Lab.\".format(name))\n",
    "    return\n",
    "\n",
    "# Driver code\n",
    "\n",
    "print(\"Please enter the name: \")\n",
    "name = input()\n",
    "print_hello(name)                                                # Function call "
   ]
  },
  {
   "cell_type": "markdown",
   "id": "de12672d",
   "metadata": {},
   "source": [
    "#### 2. Write a Python Program for factorial of a number. ####"
   ]
  },
  {
   "cell_type": "code",
   "execution_count": 2,
   "id": "7c85fc54",
   "metadata": {},
   "outputs": [
    {
     "name": "stdout",
     "output_type": "stream",
     "text": [
      "Please enter a number: \n",
      "4\n",
      "Factorial of 4 is 24.\n"
     ]
    }
   ],
   "source": [
    "def compute_factaorial(number):\n",
    "    factorial = 1\n",
    "    if number==0:\n",
    "        return factorial;\n",
    "    elif number < 0:\n",
    "        print(\"Factorial of entered number {} is not defined.\".format(number));\n",
    "    else:\n",
    "        while(number > 0):\n",
    "            factorial = factorial * number\n",
    "            number = number -1\n",
    "        return factorial;\n",
    "# Driver code\n",
    "# From here we can write executable codes\n",
    "print(\"Please enter a number: \")\n",
    "number = int(input())\n",
    "fact = compute_factaorial(number)\n",
    "print(\"Factorial of {} is {}.\".format(int(number), fact))"
   ]
  },
  {
   "cell_type": "markdown",
   "id": "1d060590",
   "metadata": {},
   "source": [
    "#### 3. Write a Python program which accepts the radius of a circle from the user and compute the area. ####"
   ]
  },
  {
   "cell_type": "code",
   "execution_count": 3,
   "id": "762b5dc5",
   "metadata": {},
   "outputs": [
    {
     "name": "stdout",
     "output_type": "stream",
     "text": [
      "Enter the radius of the circle: \n",
      "3\n",
      "Area of the circle wirh radius 3.0 is 28.259999999999998.\n"
     ]
    }
   ],
   "source": [
    "# Method 1\n",
    "def compute_circle_area(radius):\n",
    "    print(\"Area of the circle wirh radius {} is {}.\".format(radius, 3.14*radius*radius))\n",
    "    return\n",
    "print(\"Enter the radius of the circle: \")\n",
    "radius = float(input())\n",
    "compute_circle_area(radius)"
   ]
  },
  {
   "cell_type": "code",
   "execution_count": 4,
   "id": "d1a047ae",
   "metadata": {},
   "outputs": [
    {
     "name": "stdout",
     "output_type": "stream",
     "text": [
      "Enter the radius of the circle: \n",
      "4\n",
      "Area of the circle wirh radius 4.0 is 50.24.\n"
     ]
    }
   ],
   "source": [
    "# Method 2\n",
    "def compute_circle_area(radius):\n",
    "    print(\"Area of the circle wirh radius {} is {}.\".format(radius, 3.14*pow(radius,2)))\n",
    "    return\n",
    "\n",
    "# Driver code\n",
    "\n",
    "print(\"Enter the radius of the circle: \")\n",
    "radius = float(input())\n",
    "compute_circle_area(radius)"
   ]
  },
  {
   "cell_type": "markdown",
   "id": "96462c39",
   "metadata": {},
   "source": [
    "#### 4. Write a Python program to print the calendar of a given month and year. ####"
   ]
  },
  {
   "cell_type": "code",
   "execution_count": 5,
   "id": "65d69a61",
   "metadata": {},
   "outputs": [
    {
     "name": "stdout",
     "output_type": "stream",
     "text": [
      "Enter the year: 2000\n",
      "Enter the month (1-12): 2\n",
      "Calendar for 2000-2\n",
      "   February 2000\n",
      "Mo Tu We Th Fr Sa Su\n",
      "    1  2  3  4  5  6\n",
      " 7  8  9 10 11 12 13\n",
      "14 15 16 17 18 19 20\n",
      "21 22 23 24 25 26 27\n",
      "28 29\n",
      "\n"
     ]
    }
   ],
   "source": [
    "import calendar\n",
    "\n",
    "def print_calendar(year, month):\n",
    "    if month < 1 or month > 12:\n",
    "        print(\"Invalid month. Please enter a number between 1 and 12.\")\n",
    "    else:\n",
    "        cal = calendar.month(year, month)\n",
    "        print(\"Calendar for {}-{}\".format(year, month))\n",
    "        print(cal)\n",
    "    return\n",
    "\n",
    "# Driver code\n",
    "year = int(input(\"Enter the year: \"))\n",
    "month = int(input(\"Enter the month (1-12): \"))\n",
    "print_calendar(year, month)"
   ]
  },
  {
   "cell_type": "markdown",
   "id": "1c7d9a35",
   "metadata": {},
   "source": [
    "#### 5. Write a Python Program for simple interest. ####"
   ]
  },
  {
   "cell_type": "code",
   "execution_count": 7,
   "id": "04f95e7e",
   "metadata": {},
   "outputs": [
    {
     "name": "stdout",
     "output_type": "stream",
     "text": [
      "Enter the principal amountis\n",
      "100\n",
      "Enter the time period is\n",
      "2\n",
      "Enter the rate of interest is\n",
      "10\n",
      "The Simple Interest is 20.0\n"
     ]
    }
   ],
   "source": [
    "def simple_interest(p,t,r):\n",
    "    si = (p * t * r)/100\n",
    "    print('The Simple Interest is {}'.format(si))\n",
    "    return \n",
    "    \n",
    "# Driver code\n",
    "print('Enter the principal amountis')\n",
    "p = float(input()) \n",
    "print('Enter the time period is')\n",
    "t = float(input())\n",
    "print('Enter the rate of interest is')\n",
    "r = float(input())\n",
    "simple_interest(p, t, r)"
   ]
  },
  {
   "cell_type": "markdown",
   "id": "736c0a9d",
   "metadata": {},
   "source": [
    "#### 6. Write a Python Program for compound interest. ####"
   ]
  },
  {
   "cell_type": "code",
   "execution_count": 9,
   "id": "5cb03ec2",
   "metadata": {},
   "outputs": [
    {
     "name": "stdout",
     "output_type": "stream",
     "text": [
      "Enter the principal amountis\n",
      "100\n",
      "Enter the time period is\n",
      "2\n",
      "Enter the rate of interest is\n",
      "10\n",
      "The Simple Interest is 20.0\n",
      "Compound interest is 21.899441999475727\n"
     ]
    }
   ],
   "source": [
    "def compound_interest(principal, rate, time):\n",
    " \n",
    "    # Calculates compound interest\n",
    "    Amount = principal * (pow((1 + rate / 100), time))\n",
    "    CI = Amount - principal\n",
    "    print(\"Compound interest is {}\".format(CI))\n",
    "    return\n",
    " \n",
    "# Driver Code\n",
    "print('Enter the principal amountis')\n",
    "p = float(input()) \n",
    "print('Enter the time period is')\n",
    "t = float(input())\n",
    "print('Enter the rate of interest is')\n",
    "r = float(input())\n",
    "simple_interest(p, t, r)\n",
    "compound_interest(p, t, r)"
   ]
  },
  {
   "cell_type": "code",
   "execution_count": null,
   "id": "89f8b09f",
   "metadata": {},
   "outputs": [],
   "source": []
  }
 ],
 "metadata": {
  "kernelspec": {
   "display_name": "Python 3 (ipykernel)",
   "language": "python",
   "name": "python3"
  },
  "language_info": {
   "codemirror_mode": {
    "name": "ipython",
    "version": 3
   },
   "file_extension": ".py",
   "mimetype": "text/x-python",
   "name": "python",
   "nbconvert_exporter": "python",
   "pygments_lexer": "ipython3",
   "version": "3.11.5"
  }
 },
 "nbformat": 4,
 "nbformat_minor": 5
}
