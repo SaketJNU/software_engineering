{
 "cells": [
  {
   "cell_type": "markdown",
   "id": "1fd64903",
   "metadata": {},
   "source": [
    "### Python  programs as per given list ###"
   ]
  },
  {
   "cell_type": "markdown",
   "id": "114ec74e",
   "metadata": {},
   "source": [
    "#### 1. Write a Python program to print Hello **Input Name**. ####\n"
   ]
  },
  {
   "cell_type": "code",
   "execution_count": 1,
   "id": "871ecd24",
   "metadata": {},
   "outputs": [
    {
     "name": "stdout",
     "output_type": "stream",
     "text": [
      "Please enter the name: \n",
      "Dr Saket\n",
      "Hello Dr Saket in the Python program Lab.\n"
     ]
    }
   ],
   "source": [
    "def print_hello(name):                                           # function to print Hello name\n",
    "    print(\"Hello {} in the Python program Lab.\".format(name))\n",
    "    return\n",
    "\n",
    "# Driver code\n",
    "\n",
    "print(\"Please enter the name: \")\n",
    "name = input()\n",
    "print_hello(name)                                                # Function call "
   ]
  },
  {
   "cell_type": "markdown",
   "id": "de12672d",
   "metadata": {},
   "source": [
    "#### 2. Write a Python Program for factorial of a number. ####"
   ]
  },
  {
   "cell_type": "code",
   "execution_count": 2,
   "id": "7c85fc54",
   "metadata": {},
   "outputs": [
    {
     "name": "stdout",
     "output_type": "stream",
     "text": [
      "Please enter a number: \n",
      "5\n",
      "Factorial of 5 is 120.\n"
     ]
    }
   ],
   "source": [
    "def compute_factaorial(number):\n",
    "    factorial = 1\n",
    "    if number==0:\n",
    "        return factorial;\n",
    "    elif number < 0:\n",
    "        print(\"Factorial of entered number {} is not defined.\".format(number));\n",
    "    else:\n",
    "        while(number > 0):\n",
    "            factorial = factorial * number\n",
    "            number = number -1\n",
    "        return factorial;\n",
    "# Driver code\n",
    "# From here we can write executable codes\n",
    "print(\"Please enter a number: \")\n",
    "number = int(input())\n",
    "fact = compute_factaorial(number)\n",
    "print(\"Factorial of {} is {}.\".format(int(number), fact))"
   ]
  },
  {
   "cell_type": "markdown",
   "id": "1d060590",
   "metadata": {},
   "source": [
    "#### 3. Write a Python program which accepts the radius of a circle from the user and compute the area. ####"
   ]
  },
  {
   "cell_type": "code",
   "execution_count": 3,
   "id": "762b5dc5",
   "metadata": {},
   "outputs": [
    {
     "name": "stdout",
     "output_type": "stream",
     "text": [
      "Enter the radius of the circle: \n",
      "1\n",
      "Area of the circle wirh radius 1.0 is 3.14.\n"
     ]
    }
   ],
   "source": [
    "# Method 1\n",
    "def compute_circle_area(radius):\n",
    "    print(\"Area of the circle wirh radius {} is {}.\".format(radius, 3.14*radius*radius))\n",
    "    return\n",
    "print(\"Enter the radius of the circle: \")\n",
    "radius = float(input())\n",
    "compute_circle_area(radius)"
   ]
  },
  {
   "cell_type": "code",
   "execution_count": 4,
   "id": "d1a047ae",
   "metadata": {},
   "outputs": [
    {
     "name": "stdout",
     "output_type": "stream",
     "text": [
      "Enter the radius of the circle: \n",
      "2\n",
      "Area of the circle wirh radius 2.0 is 12.56.\n"
     ]
    }
   ],
   "source": [
    "# Method 2\n",
    "def compute_circle_area(radius):\n",
    "    print(\"Area of the circle wirh radius {} is {}.\".format(radius, 3.14*pow(radius,2)))\n",
    "    return\n",
    "\n",
    "# Driver code\n",
    "\n",
    "print(\"Enter the radius of the circle: \")\n",
    "radius = float(input())\n",
    "compute_circle_area(radius)"
   ]
  },
  {
   "cell_type": "markdown",
   "id": "96462c39",
   "metadata": {},
   "source": [
    "#### 4. Write a Python program to print the calendar of a given month and year. ####"
   ]
  },
  {
   "cell_type": "code",
   "execution_count": 5,
   "id": "65d69a61",
   "metadata": {},
   "outputs": [
    {
     "name": "stdout",
     "output_type": "stream",
     "text": [
      "Enter the year: 2000\n",
      "Enter the month (1-12): 3\n",
      "Calendar for 2000-3\n",
      "     March 2000\n",
      "Mo Tu We Th Fr Sa Su\n",
      "       1  2  3  4  5\n",
      " 6  7  8  9 10 11 12\n",
      "13 14 15 16 17 18 19\n",
      "20 21 22 23 24 25 26\n",
      "27 28 29 30 31\n",
      "\n"
     ]
    }
   ],
   "source": [
    "import calendar\n",
    "\n",
    "def print_calendar(year, month):\n",
    "    if month < 1 or month > 12:\n",
    "        print(\"Invalid month. Please enter a number between 1 and 12.\")\n",
    "    else:\n",
    "        cal = calendar.month(year, month)\n",
    "        print(\"Calendar for {}-{}\".format(year, month))\n",
    "        print(cal)\n",
    "    return\n",
    "\n",
    "# Driver code\n",
    "year = int(input(\"Enter the year: \"))\n",
    "month = int(input(\"Enter the month (1-12): \"))\n",
    "print_calendar(year, month)"
   ]
  },
  {
   "cell_type": "markdown",
   "id": "1c7d9a35",
   "metadata": {},
   "source": [
    "#### 5. Write a Python Program for simple interest. ####"
   ]
  },
  {
   "cell_type": "code",
   "execution_count": 6,
   "id": "04f95e7e",
   "metadata": {},
   "outputs": [
    {
     "name": "stdout",
     "output_type": "stream",
     "text": [
      "Enter the principal amountis\n",
      "100\n",
      "Enter the time period is\n",
      "2\n",
      "Enter the rate of interest is\n",
      "10\n",
      "The Simple Interest is 20.0\n"
     ]
    }
   ],
   "source": [
    "def simple_interest(p,t,r):\n",
    "    si = (p * t * r)/100\n",
    "    print('The Simple Interest is {}'.format(si))\n",
    "    return \n",
    "    \n",
    "# Driver code\n",
    "print('Enter the principal amountis')\n",
    "p = float(input()) \n",
    "print('Enter the time period is')\n",
    "t = float(input())\n",
    "print('Enter the rate of interest is')\n",
    "r = float(input())\n",
    "simple_interest(p, t, r)"
   ]
  },
  {
   "cell_type": "markdown",
   "id": "736c0a9d",
   "metadata": {},
   "source": [
    "#### 6. Write a Python Program for compound interest. ####"
   ]
  },
  {
   "cell_type": "code",
   "execution_count": 7,
   "id": "5cb03ec2",
   "metadata": {},
   "outputs": [
    {
     "name": "stdout",
     "output_type": "stream",
     "text": [
      "Enter the principal amountis\n",
      "10000\n",
      "Enter the time period is\n",
      "3\n",
      "Enter the rate of interest is\n",
      "13\n",
      "The Simple Interest is 3900.0\n",
      "Compound interest is 4685.337134515648\n"
     ]
    }
   ],
   "source": [
    "def compound_interest(principal, rate, time):\n",
    " \n",
    "    # Calculates compound interest\n",
    "    Amount = principal * (pow((1 + rate / 100), time))\n",
    "    CI = Amount - principal\n",
    "    print(\"Compound interest is {}\".format(CI))\n",
    "    return\n",
    " \n",
    "# Driver Code\n",
    "print('Enter the principal amountis')\n",
    "p = float(input()) \n",
    "print('Enter the time period is')\n",
    "t = float(input())\n",
    "print('Enter the rate of interest is')\n",
    "r = float(input())\n",
    "simple_interest(p, t, r)\n",
    "compound_interest(p, t, r)"
   ]
  },
  {
   "cell_type": "markdown",
   "id": "12968afa",
   "metadata": {},
   "source": [
    "#### 7. Write a Python program to calculate the length of a string. ####"
   ]
  },
  {
   "cell_type": "code",
   "execution_count": 8,
   "id": "3729de4e",
   "metadata": {},
   "outputs": [
    {
     "name": "stdout",
     "output_type": "stream",
     "text": [
      "Enter the string: \n",
      "This is a Python Programming lab\n",
      "The length of the given string This is a Python Programming lab is 32\n"
     ]
    }
   ],
   "source": [
    "print(\"Enter the string: \")\n",
    "str = input()\n",
    "print(\"The length of the given string {} is {}\".format(str, len(str)))"
   ]
  },
  {
   "cell_type": "markdown",
   "id": "032a465f",
   "metadata": {},
   "source": [
    "#### 8. Write a Python program to split and join a string. ####"
   ]
  },
  {
   "cell_type": "code",
   "execution_count": 15,
   "id": "27f7b38f",
   "metadata": {},
   "outputs": [
    {
     "name": "stdout",
     "output_type": "stream",
     "text": [
      "Please enter the string\n",
      "This is a Python Programming Lab\n",
      "This\n",
      "is\n",
      "a\n",
      "Python\n",
      "Programming\n",
      "Lab\n",
      "Joined string is without space ---------------\n",
      " ThisisaPythonProgrammingLab\n",
      "Joined string is with space ---------------\n",
      " This is a Python Programming Lab\n"
     ]
    }
   ],
   "source": [
    "print(\"Please enter the string\")\n",
    "str = input()                                                           # read the input string\n",
    "split_str = str.split(\" \")                                              # splitted the string with blanck space\n",
    "for s in split_str:\n",
    "    print(s)\n",
    "joined_str = \"\".join(split_str)\n",
    "print(\"Joined string is without space ---------------\\n\", joined_str)\n",
    "joined_str1 = \" \".join(split_str)\n",
    "print(\"Joined string is with space ---------------\\n\", joined_str1)"
   ]
  },
  {
   "cell_type": "markdown",
   "id": "56a33f50",
   "metadata": {},
   "source": [
    "#### 9. Write a Python program to demonstrate of accessing the string- By using Positive Indexing. ####"
   ]
  },
  {
   "cell_type": "code",
   "execution_count": 19,
   "id": "fb4fcf4a",
   "metadata": {},
   "outputs": [
    {
     "name": "stdout",
     "output_type": "stream",
     "text": [
      "Enter the string:\n",
      "There is a test of string characters\n",
      "first 5 characters of the string are:  There\n",
      "Last three characters of the string are:  ers\n"
     ]
    }
   ],
   "source": [
    "print(\"Enter the string:\")\n",
    "str = input()\n",
    "print(\"first 5 characters of the string are: \", str[0:5])\n",
    "print(\"Last three characters of the string are: \", str[len(str)-3 :len(str)])"
   ]
  },
  {
   "cell_type": "markdown",
   "id": "56b7cf68",
   "metadata": {},
   "source": [
    "#### 10. Write a Python program to demonstrate of accessing the string- By using Negative Indexing. ####"
   ]
  },
  {
   "cell_type": "code",
   "execution_count": 24,
   "id": "f072fcef",
   "metadata": {},
   "outputs": [
    {
     "name": "stdout",
     "output_type": "stream",
     "text": [
      "Enter the string:\n",
      "This is string character\n",
      "Last character of the string is:  r\n",
      "Last 5 character of the string is:  racte\n"
     ]
    }
   ],
   "source": [
    "print(\"Enter the string:\")\n",
    "str = input()\n",
    "print(\"Last character of the string is: \", str[-1])\n",
    "print(\"Last 5 character of the string is: \", str[-6 : -1])"
   ]
  },
  {
   "cell_type": "markdown",
   "id": "3495cfca",
   "metadata": {},
   "source": [
    "#### 11. Write a Python program to multiplies all the items in a list. ####"
   ]
  },
  {
   "cell_type": "code",
   "execution_count": 29,
   "id": "c9d9075f",
   "metadata": {},
   "outputs": [
    {
     "name": "stdout",
     "output_type": "stream",
     "text": [
      "Given List of integer is [2, 3, 4, 5] and their product is 120.\n"
     ]
    }
   ],
   "source": [
    "int_list = [2, 3, 4, 5]\n",
    "int_mul = 1\n",
    "for i in int_list:\n",
    "   int_mul = int_mul*i\n",
    "print(\"Given List of integer is {} and their product is {}.\".format(int_list, int_mul))"
   ]
  },
  {
   "cell_type": "code",
   "execution_count": 30,
   "id": "8f94e4d2",
   "metadata": {},
   "outputs": [
    {
     "ename": "NameError",
     "evalue": "name 'a' is not defined",
     "output_type": "error",
     "traceback": [
      "\u001b[1;31m---------------------------------------------------------------------------\u001b[0m",
      "\u001b[1;31mNameError\u001b[0m                                 Traceback (most recent call last)",
      "Cell \u001b[1;32mIn[30], line 1\u001b[0m\n\u001b[1;32m----> 1\u001b[0m l \u001b[38;5;241m=\u001b[39m [a, b , c ]\n\u001b[0;32m      2\u001b[0m m\u001b[38;5;241m=\u001b[39m\u001b[38;5;124m\"\u001b[39m\u001b[38;5;124m\"\u001b[39m\n\u001b[0;32m      3\u001b[0m \u001b[38;5;28;01mfor\u001b[39;00m i \u001b[38;5;129;01min\u001b[39;00m l:\n",
      "\u001b[1;31mNameError\u001b[0m: name 'a' is not defined"
     ]
    }
   ],
   "source": [
    "l = [a, b , c ]\n",
    "m=\"\"\n",
    "for i in l:\n",
    "    m=m*i\n",
    "print(m)"
   ]
  },
  {
   "cell_type": "code",
   "execution_count": null,
   "id": "799b4d5f",
   "metadata": {},
   "outputs": [],
   "source": []
  }
 ],
 "metadata": {
  "kernelspec": {
   "display_name": "Python 3 (ipykernel)",
   "language": "python",
   "name": "python3"
  },
  "language_info": {
   "codemirror_mode": {
    "name": "ipython",
    "version": 3
   },
   "file_extension": ".py",
   "mimetype": "text/x-python",
   "name": "python",
   "nbconvert_exporter": "python",
   "pygments_lexer": "ipython3",
   "version": "3.11.5"
  }
 },
 "nbformat": 4,
 "nbformat_minor": 5
}
