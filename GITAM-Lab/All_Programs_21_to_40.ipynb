{
 "cells": [
  {
   "cell_type": "markdown",
   "id": "6ba51907",
   "metadata": {},
   "source": [
    "#### 21. Write a program that inputs a text file. The program should print all of the unique words in the file in alphabetical order. ####"
   ]
  },
  {
   "cell_type": "code",
   "execution_count": 5,
   "id": "bdd6aed0",
   "metadata": {},
   "outputs": [
    {
     "name": "stdout",
     "output_type": "stream",
     "text": [
      "Enter the file name: Program21_file.txt\n",
      "Unique words in alphabetical order:\n",
      "Open\n",
      "Print\n",
      "Python\n",
      "Remove\n",
      "Sort\n",
      "Split\n",
      "To\n",
      "a\n",
      "all\n",
      "alphabetical\n",
      "alphabetically\n",
      "and\n",
      "by\n",
      "converting\n",
      "create\n",
      "duplicates\n",
      "extracts\n",
      "file\n",
      "follow\n",
      "from\n",
      "in\n",
      "into\n",
      "order\n",
      "prints\n",
      "program\n",
      "read\n",
      "reads\n",
      "set\n",
      "sorted\n",
      "steps\n",
      "text\n",
      "that\n",
      "the\n",
      "them\n",
      "these\n",
      "to\n",
      "unique\n",
      "words\n"
     ]
    }
   ],
   "source": [
    "# Function to process the text file and print unique words in alphabetical order\n",
    "def print_unique_words(file_name):\n",
    "    try:\n",
    "        # Open the file\n",
    "        with open(file_name, 'r') as file:\n",
    "            # Read the file contents\n",
    "            text = file.read()\n",
    "        \n",
    "        # Remove punctuation and split the text into words\n",
    "        words = text.split()\n",
    "        \n",
    "        # Convert words to lowercase to make the comparison case-insensitive\n",
    "        words = [word.strip('.,!?()[]{}\":;') for word in words]                          # Remove punctuation\n",
    "        \n",
    "        # Convert the list of words to a set to remove duplicates\n",
    "        unique_words = set(words)\n",
    "        \n",
    "        # Sort the words alphabetically\n",
    "        sorted_words = sorted(unique_words)\n",
    "        \n",
    "        # Print the unique words in alphabetical order\n",
    "        print(\"Unique words in alphabetical order:\")\n",
    "        for word in sorted_words:\n",
    "            print(word)\n",
    "    \n",
    "    except FileNotFoundError:\n",
    "        print(f\"The file at {file_name} was not found.\")\n",
    "    except Exception as e:\n",
    "        print(f\"An error occurred: {e}\")\n",
    "\n",
    " # Driver code        \n",
    "    \n",
    "# Input the path to the text file\n",
    "file_name = input(\"Enter the file name: \")\n",
    "# Call the function to print unique words\n",
    "print_unique_words(file_name)"
   ]
  },
  {
   "cell_type": "markdown",
   "id": "f4b358f3",
   "metadata": {},
   "source": [
    "#### 22. Write a python program to open and write “hello world” into a file. ####"
   ]
  },
  {
   "cell_type": "code",
   "execution_count": 7,
   "id": "1504eff1",
   "metadata": {},
   "outputs": [
    {
     "name": "stdout",
     "output_type": "stream",
     "text": [
      "Text 'hello world' has been written to 'hello_world.txt'\n"
     ]
    }
   ],
   "source": [
    "# Open a file in write mode ('w')\n",
    "def print_hello():\n",
    "    with open('hello_world.txt', 'w') as file:\n",
    "        # Write \"hello world\" to the file\n",
    "        file.write(\"hello world\")\n",
    "        print(\"Text 'hello world' has been written to 'hello_world.txt'\")\n",
    "\n",
    "# Driver code\n",
    "print_hello()"
   ]
  },
  {
   "cell_type": "markdown",
   "id": "56f44ec8",
   "metadata": {},
   "source": [
    "#### 23. Write a python program to write the content “hi python programming” for the above existing file. ####"
   ]
  },
  {
   "cell_type": "code",
   "execution_count": 9,
   "id": "c05e5e4b",
   "metadata": {},
   "outputs": [
    {
     "name": "stdout",
     "output_type": "stream",
     "text": [
      "Text 'hi python programming' has been written to 'hello_world.txt'\n"
     ]
    }
   ],
   "source": [
    "def hello_again():\n",
    "    # Open the file in append mode ('a')\n",
    "    with open('hello_world.txt', 'a') as file:\n",
    "    # Write \"hi python programming\" to the file\n",
    "        file.write(\"hi python programming\\n\")\n",
    "\n",
    "    print(\"Text 'hi python programming' has been written to 'hello_world.txt'\")\n",
    "\n",
    "# Driver code\n",
    "\n",
    "hello_again()"
   ]
  },
  {
   "cell_type": "markdown",
   "id": "5474b46d",
   "metadata": {},
   "source": [
    "#### 24. Write a program to double a given number and add two numbers using lambda(). ####"
   ]
  },
  {
   "cell_type": "code",
   "execution_count": 10,
   "id": "d3307b24",
   "metadata": {},
   "outputs": [
    {
     "name": "stdout",
     "output_type": "stream",
     "text": [
      "The double of 5 is: 10\n",
      "The sum of 7 and 10 is: 17\n"
     ]
    }
   ],
   "source": [
    "# Lambda function to double a given number\n",
    "double = lambda x: x * 2\n",
    "\n",
    "# Lambda function to add two numbers\n",
    "add = lambda x, y: x + y\n",
    "\n",
    "# Test the functions\n",
    "number_to_double = 5\n",
    "number1 = 7\n",
    "number2 = 10\n",
    "\n",
    "# Doubling the number\n",
    "doubled_result = double(number_to_double)\n",
    "\n",
    "# Adding two numbers\n",
    "sum_result = add(number1, number2)\n",
    "\n",
    "# Output the results\n",
    "print(f\"The double of {number_to_double} is: {doubled_result}\")\n",
    "print(f\"The sum of {number1} and {number2} is: {sum_result}\")"
   ]
  },
  {
   "cell_type": "markdown",
   "id": "7c4596a2",
   "metadata": {},
   "source": [
    "#### 25. Write a function that takes the lengths of three sides: side1, side2 and side3 of the triangle as the inputfrom the user using input function and return the area and perimeter of the triangle as atuple. Also, assert that sum of the length of any two sides is greater than the third side.####"
   ]
  },
  {
   "cell_type": "code",
   "execution_count": 17,
   "id": "3cee58f8",
   "metadata": {},
   "outputs": [
    {
     "name": "stdout",
     "output_type": "stream",
     "text": [
      "Enter the length of side1: 3\n",
      "Enter the length of side2: 4\n",
      "Enter the length of side3: 5\n",
      "The area of the triangle is: 6.0\n",
      "The perimeter of the triangle is: 12.0\n"
     ]
    }
   ],
   "source": [
    "import math\n",
    "\n",
    "# Function to compute area and perimeter of a triangle\n",
    "def triangle_properties(side1, side2, side3):\n",
    "    # Assert that the sum of the length of any two sides is greater than the third side\n",
    "    assert (side1 + side2 > side3), \"The sum of side1 and side2 must be greater than side3\"\n",
    "    assert (side1 + side3 > side2), \"The sum of side1 and side3 must be greater than side2\"\n",
    "    assert (side2 + side3 > side1), \"The sum of side2 and side3 must be greater than side1\"\n",
    "    \n",
    "    # Calculate the perimeter of the triangle\n",
    "    perimeter = side1 + side2 + side3\n",
    "    \n",
    "    # Calculate the semi-perimeter (s) for Heron's formula\n",
    "    s = perimeter / 2\n",
    "    \n",
    "    # Calculate the area using Heron's formula\n",
    "    area = math.sqrt(s * (s - side1) * (s - side2) * (s - side3))\n",
    "    \n",
    "    return (area, perimeter)\n",
    "\n",
    "# Driver code\n",
    "\n",
    "# Input the lengths of the sides of the triangle\n",
    "side1 = float(input(\"Enter the length of side1: \"))\n",
    "side2 = float(input(\"Enter the length of side2: \"))\n",
    "side3 = float(input(\"Enter the length of side3: \"))\n",
    "\n",
    "# Call the function to compute area and perimeter\n",
    "try:\n",
    "    area, perimeter = triangle_properties(side1, side2, side3)\n",
    "    print(f\"The area of the triangle is: {area}\")\n",
    "    print(f\"The perimeter of the triangle is: {perimeter}\")\n",
    "except AssertionError as e:\n",
    "    print(e)\n"
   ]
  },
  {
   "cell_type": "markdown",
   "id": "4b55db5a",
   "metadata": {},
   "source": [
    "#### 26. Write a Python function to find then $n^{th}$ term of Fibonacci sequennce and its factorial. Return the result as a list. ####"
   ]
  },
  {
   "cell_type": "code",
   "execution_count": 18,
   "id": "d231d477",
   "metadata": {},
   "outputs": [
    {
     "name": "stdout",
     "output_type": "stream",
     "text": [
      "Enter the value of n: 5\n",
      "The 5th Fibonacci term is: 5\n",
      "The factorial of the 5th Fibonacci term is: 120\n"
     ]
    }
   ],
   "source": [
    "import math\n",
    "\n",
    "def fibonacci_and_factorial(n):\n",
    "    # Calculate the nth Fibonacci number\n",
    "    if n == 0:\n",
    "        fib_n = 0\n",
    "    elif n == 1:\n",
    "        fib_n = 1\n",
    "    else:\n",
    "        a, b = 0, 1\n",
    "        for i in range(2, n + 1):\n",
    "            a, b = b, a + b\n",
    "        fib_n = b\n",
    "    \n",
    "    # Calculate the factorial of the nth Fibonacci number\n",
    "    factorial = math.factorial(fib_n)\n",
    "    \n",
    "    # Return the results as a list [nth Fibonacci term, factorial of that term]\n",
    "    return fib_n, factorial\n",
    "\n",
    "# Driver Code\n",
    "\n",
    "n = int(input(\"Enter the value of n: \"))\n",
    "result = fibonacci_and_factorial(n)\n",
    "print(f\"The {n}th Fibonacci term is: {result[0]}\")\n",
    "print(f\"The factorial of the {n}th Fibonacci term is: {result[1]}\")\n"
   ]
  },
  {
   "cell_type": "markdown",
   "id": "2b5bcede",
   "metadata": {},
   "source": [
    "#### 27. Write a function that takes a number (>=10) as an input and return the digits of the number as a set. ####"
   ]
  },
  {
   "cell_type": "code",
   "execution_count": 21,
   "id": "d5d8f700",
   "metadata": {},
   "outputs": [
    {
     "name": "stdout",
     "output_type": "stream",
     "text": [
      "Enter a number (>=10): 234565321\n",
      "The digits of 234565321 as a set are: {'1', '6', '4', '2', '3', '5'}\n"
     ]
    }
   ],
   "source": [
    "def get_digits(num):\n",
    "    if num < 10:\n",
    "        raise ValueError(\"The number should be greater than or equal to 10.\")\n",
    "    \n",
    "    # Convert the number to a string, then use a set to get unique digits\n",
    "    digits = set(str(num))\n",
    "    \n",
    "    # Return the set of digits\n",
    "    return digits\n",
    "\n",
    "\n",
    "# Example usage\n",
    "try:\n",
    "    num = int(input(\"Enter a number (>=10): \"))\n",
    "    digits_set = get_digits(num)\n",
    "    print(f\"The digits of {num} as a set are: {digits_set}\")\n",
    "except ValueError as e:\n",
    "    print(e)"
   ]
  },
  {
   "cell_type": "markdown",
   "id": "b91a457f",
   "metadata": {},
   "source": [
    "#### 28. Use dictionary to store marks of the students in 4 subjects. Write a function to find the name of the student securing highest percentage. (Hint:Names of students are unique) ####"
   ]
  },
  {
   "cell_type": "code",
   "execution_count": 22,
   "id": "53e2e8ea",
   "metadata": {},
   "outputs": [
    {
     "name": "stdout",
     "output_type": "stream",
     "text": [
      "The student with the highest percentage is Charlie with 95.25%\n"
     ]
    }
   ],
   "source": [
    "def highest_percentage(students_marks):\n",
    "    highest = None\n",
    "    max_percentage = 0\n",
    "    \n",
    "    for student, marks in students_marks.items():\n",
    "        # Calculate the total marks and percentage for the student\n",
    "        total_marks = sum(marks)\n",
    "        percentage = (total_marks / 400) * 100  # Assuming each subject is out of 100\n",
    "        \n",
    "        # Check if this student has the highest percentage so far\n",
    "        if percentage > max_percentage:\n",
    "            max_percentage = percentage\n",
    "            highest = student\n",
    "    \n",
    "    return highest, max_percentage\n",
    "\n",
    "# Driver code\n",
    "\n",
    "# Dictionary to store the marks of students in 4 subjects\n",
    "students_marks = {\n",
    "    \"Alice\": [85, 90, 88, 92],\n",
    "    \"Bob\": [78, 82, 80, 85],\n",
    "    \"Charlie\": [92, 95, 98, 96],\n",
    "    \"David\": [70, 75, 78, 72]\n",
    "}\n",
    "\n",
    "# Find the student with the highest percentage\n",
    "student, percentage = highest_percentage(students_marks)\n",
    "\n",
    "# Output the result\n",
    "print(f\"The student with the highest percentage is {student} with {percentage:.2f}%\")\n"
   ]
  },
  {
   "cell_type": "markdown",
   "id": "ed50dff6",
   "metadata": {},
   "source": [
    "#### 29. Write a function that takes a sentence as input from the user and calculates the frequency of each letter. Use avariable of dictionary type to maintain the count. ####"
   ]
  },
  {
   "cell_type": "code",
   "execution_count": 23,
   "id": "514371ad",
   "metadata": {},
   "outputs": [
    {
     "name": "stdout",
     "output_type": "stream",
     "text": [
      "Enter a sentence: This is a Python Programming Lab and we are learning Python fundamentals.\n",
      "Letter frequencies:\n",
      "t: 4\n",
      "h: 3\n",
      "i: 4\n",
      "s: 3\n",
      "a: 8\n",
      "p: 3\n",
      "y: 2\n",
      "o: 3\n",
      "n: 8\n",
      "r: 4\n",
      "g: 3\n",
      "m: 3\n",
      "l: 3\n",
      "b: 1\n",
      "d: 2\n",
      "w: 1\n",
      "e: 4\n",
      "f: 1\n",
      "u: 1\n"
     ]
    }
   ],
   "source": [
    "def letter_frequency(sentence):\n",
    "    # Initialize an empty dictionary to store letter frequencies\n",
    "    frequency = {}\n",
    "\n",
    "    # Loop through each character in the sentence\n",
    "    for char in sentence:\n",
    "        # Check if the character is a letter (ignoring spaces and punctuation)\n",
    "        if char.isalpha():\n",
    "            # Convert the character to lowercase for case-insensitive counting\n",
    "            char = char.lower()\n",
    "            # Increment the frequency count for the character\n",
    "            if char in frequency:\n",
    "                frequency[char] += 1\n",
    "            else:\n",
    "                frequency[char] = 1\n",
    "\n",
    "    # Return the dictionary with letter frequencies\n",
    "    return frequency\n",
    "\n",
    "# Driver code\n",
    "# Input sentence from the user\n",
    "\n",
    "sentence = input(\"Enter a sentence: \")\n",
    "\n",
    "# Get the letter frequency\n",
    "frequency = letter_frequency(sentence)\n",
    "\n",
    "# Print the result\n",
    "print(\"Letter frequencies:\")\n",
    "for letter, count in frequency.items():\n",
    "    print(f\"{letter}: {count}\")"
   ]
  },
  {
   "cell_type": "markdown",
   "id": "a3e4583f",
   "metadata": {},
   "source": [
    "#### 30. Write a function that takes a number with two or more digits as an input and finds its reverse and computes the sum of its digits. ####"
   ]
  },
  {
   "cell_type": "code",
   "execution_count": 26,
   "id": "ecb36c3d",
   "metadata": {},
   "outputs": [
    {
     "name": "stdout",
     "output_type": "stream",
     "text": [
      "Enter a number with two or more digits: 2356521\n",
      "The reverse of the number is: 1256532\n",
      "The sum of the digits is: 24\n"
     ]
    }
   ],
   "source": [
    "def reverse_and_sum(number):\n",
    "    # Ensure the number has two or more digits\n",
    "    if number < 10:\n",
    "        raise ValueError(\"The number must have two or more digits.\")\n",
    "\n",
    "    # Convert the number to a string to easily reverse and iterate through digits\n",
    "    num_str = str(number)\n",
    "    \n",
    "    # Find the reverse of the number\n",
    "    reversed_num = int(num_str[::-1])\n",
    "    \n",
    "    # Calculate the sum of the digits\n",
    "    sum_of_digits = sum(int(digit) for digit in num_str)\n",
    "    \n",
    "    return reversed_num, sum_of_digits\n",
    "\n",
    "# Driver code\n",
    "\n",
    "# Input a number from the user\n",
    "try:\n",
    "    num = int(input(\"Enter a number with two or more digits: \"))\n",
    "    \n",
    "    # Get the reverse and sum of digits\n",
    "    reversed_num, sum_digits = reverse_and_sum(num)\n",
    "    \n",
    "    # Output the results\n",
    "    print(f\"The reverse of the number is: {reversed_num}\")\n",
    "    print(f\"The sum of the digits is: {sum_digits}\")\n",
    "except ValueError as e:\n",
    "    print(e)"
   ]
  },
  {
   "cell_type": "markdown",
   "id": "31b57dfd",
   "metadata": {},
   "source": [
    "#### 31. Write a function that takes two numbers as input parameters and returns their least common multiple. ####"
   ]
  },
  {
   "cell_type": "code",
   "execution_count": 27,
   "id": "96992b95",
   "metadata": {},
   "outputs": [
    {
     "name": "stdout",
     "output_type": "stream",
     "text": [
      "Enter the first number: 34\n",
      "Enter the second number: 12\n",
      "The Least Common Multiple (LCM) of 34 and 12 is: 204\n"
     ]
    }
   ],
   "source": [
    "import math\n",
    "\n",
    "def lcm(a, b):\n",
    "    # Use the formula LCM(a, b) = |a * b| / GCD(a, b)\n",
    "    return abs(a * b) // math.gcd(a, b)\n",
    "\n",
    "# Driver code\n",
    "\n",
    "# Input two numbers from the user\n",
    "try:\n",
    "    num1 = int(input(\"Enter the first number: \"))\n",
    "    num2 = int(input(\"Enter the second number: \"))\n",
    "    \n",
    "    # Calculate the LCM\n",
    "    result = lcm(num1, num2)\n",
    "    \n",
    "    # Output the result\n",
    "    print(f\"The Least Common Multiple (LCM) of {num1} and {num2} is: {result}\")\n",
    "except ValueError:\n",
    "    print(\"Please enter valid integers.\")"
   ]
  },
  {
   "cell_type": "markdown",
   "id": "7ec2706f",
   "metadata": {},
   "source": [
    "#### 32. Write a function that takes two numbers as input parameters and returns their highest common factor. ####"
   ]
  },
  {
   "cell_type": "code",
   "execution_count": 5,
   "id": "7f753c7b",
   "metadata": {},
   "outputs": [
    {
     "name": "stdout",
     "output_type": "stream",
     "text": [
      "hcf of 6 and 15 is 3.\n"
     ]
    }
   ],
   "source": [
    "def hcf(a, b):\n",
    "    while b:\n",
    "        a, b = b, a % b\n",
    "    return a\n",
    "\n",
    "# drivr code\n",
    "\n",
    "print(\"hcf of {} and {} is {}.\".format(6, 15, hcf(6,15)))"
   ]
  },
  {
   "cell_type": "markdown",
   "id": "2e1efd89",
   "metadata": {},
   "source": [
    "#### 33. Write a function that takes a number as an input and determine whether it is prime or not."
   ]
  },
  {
   "cell_type": "code",
   "execution_count": 10,
   "id": "4e67141c",
   "metadata": {},
   "outputs": [
    {
     "name": "stdout",
     "output_type": "stream",
     "text": [
      "Please input an integer number67\n",
      "Entered number is a prime number.\n"
     ]
    }
   ],
   "source": [
    "def is_prime(num):\n",
    "    if num <= 1:\n",
    "        return False\n",
    "    for i in range(2, int(num ** 0.5) + 1):\n",
    "        if num % i == 0:\n",
    "            return False\n",
    "    return True\n",
    "\n",
    "# Driver code\n",
    "\n",
    "num = int(input(\"Please input an integer number\"))\n",
    "test = is_prime(num)\n",
    "if test == True:\n",
    "    print(\"Entered number is a prime number.\")\n",
    "else:\n",
    "    print(\"entered number is not a prime number.\")"
   ]
  },
  {
   "cell_type": "markdown",
   "id": "2ac08e25",
   "metadata": {},
   "source": [
    "#### 34. Write a Python function that takes two strings as an input from the user and counts the number of matching characters in the given pair of strings."
   ]
  },
  {
   "cell_type": "code",
   "execution_count": 11,
   "id": "dd833103",
   "metadata": {},
   "outputs": [
    {
     "name": "stdout",
     "output_type": "stream",
     "text": [
      "ENter the first string: this is python programming lab\n",
      "ENter the second string: learn python codeing\n",
      "Total number of matched characters are:  15\n"
     ]
    }
   ],
   "source": [
    "def count_matching_characters(str1, str2):\n",
    "    count = 0\n",
    "    # Loop through characters of the first string\n",
    "    for char in str1:\n",
    "        if char in str2:\n",
    "            count += 1\n",
    "            str2 = str2.replace(char, '', 1)  # Remove the matched character from the second string\n",
    "    return count\n",
    "\n",
    "# Driver code\n",
    "str1 = input(\"ENter the first string: \")\n",
    "str2 = input(\"ENter the second string: \")\n",
    "print(\"Total number of matched characters are: \", count_matching_characters(str1, str2))"
   ]
  },
  {
   "cell_type": "markdown",
   "id": "9f612b0c",
   "metadata": {},
   "source": [
    "#### 35. Write a Python function that takes a string as an input from the user and displays its reverse."
   ]
  },
  {
   "cell_type": "code",
   "execution_count": 12,
   "id": "27d47901",
   "metadata": {},
   "outputs": [
    {
     "name": "stdout",
     "output_type": "stream",
     "text": [
      "Please enter ther string: this is a Lab\n",
      "reversed string is : baL a si siht\n"
     ]
    }
   ],
   "source": [
    "def reverse_string(s):\n",
    "    return s[::-1]\n",
    "\n",
    "# Driver codestr \n",
    "str = input(\"Please enter ther string: \" )\n",
    "print(\"reversed string is :\", reverse_string(str))"
   ]
  },
  {
   "cell_type": "markdown",
   "id": "628f7260",
   "metadata": {},
   "source": [
    "#### 36. Write a Python function that takes a string as an input from the user and determines whether it is **palindrome** or not."
   ]
  },
  {
   "cell_type": "code",
   "execution_count": 19,
   "id": "39615be6",
   "metadata": {},
   "outputs": [
    {
     "name": "stdout",
     "output_type": "stream",
     "text": [
      "Enter the string: this is si siht\n",
      "Entered tring is a Palindrome sting.\n"
     ]
    }
   ],
   "source": [
    "def is_palindrome(s):\n",
    "    # Remove spaces and convert to lowercase for case-insensitive comparison\n",
    "    s = s.replace(\" \", \"\".lower())\n",
    "    \n",
    "    # Compare the string with its reverse\n",
    "    return s == s[::-1]\n",
    "\n",
    "# Driver code\n",
    "str1 = input(\"Enter the string: \")\n",
    "test = is_palindrome(str1)\n",
    "if test == True:\n",
    "    print(\"Entered tring is a Palindrome sting.\")\n",
    "else:\n",
    "    print(\"Entered tring is not a Palindrome sting.\")"
   ]
  },
  {
   "cell_type": "markdown",
   "id": "6647d9d5",
   "metadata": {},
   "source": [
    "#### 37. Write a Python function to calculate the sum of two compatible matrices."
   ]
  },
  {
   "cell_type": "code",
   "execution_count": 21,
   "id": "25e0b294",
   "metadata": {},
   "outputs": [
    {
     "name": "stdout",
     "output_type": "stream",
     "text": [
      "[[8, 10, 12], [14, 16, 18]]\n"
     ]
    }
   ],
   "source": [
    "def add_matrices(matrix1, matrix2):\n",
    "    # Check if the matrices have the same dimensions\n",
    "    if len(matrix1) != len(matrix2) or len(matrix1[0]) != len(matrix2[0]):\n",
    "        raise ValueError(\"Matrices are not of the same size\")\n",
    "    \n",
    "    # Initialize the result matrix with zero values\n",
    "    result = [[0 for _ in range(len(matrix1[0]))] for _ in range(len(matrix1))]\n",
    "    \n",
    "    # Add corresponding elements\n",
    "    for i in range(len(matrix1)):\n",
    "        for j in range(len(matrix1[0])):\n",
    "            result[i][j] = matrix1[i][j] + matrix2[i][j]\n",
    "    \n",
    "    return result\n",
    "\n",
    "# Driver code\n",
    "\n",
    "matrix1 = [\n",
    "    [1, 2, 3],\n",
    "    [4, 5, 6],\n",
    "]\n",
    "\n",
    "matrix2 = [\n",
    "    [7, 8, 9],\n",
    "    [10, 11, 12],\n",
    "]\n",
    "\n",
    "result = add_matrices(matrix1, matrix2)\n",
    "print(result)"
   ]
  },
  {
   "cell_type": "markdown",
   "id": "e63e773d",
   "metadata": {},
   "source": [
    "#### 38. Write a Python function to calculate the product of two compatible matrices."
   ]
  },
  {
   "cell_type": "code",
   "execution_count": 23,
   "id": "4d009ddf",
   "metadata": {},
   "outputs": [
    {
     "name": "stdout",
     "output_type": "stream",
     "text": [
      "[[8, 10, 12], [14, 16, 18]]\n"
     ]
    }
   ],
   "source": [
    "def multiply_matrices(matrix1, matrix2):\n",
    "    # Check if the matrices can be multiplied (number of columns of matrix1 should equal number of rows of matrix2)\n",
    "    if len(matrix1[0]) != len(matrix2):\n",
    "        raise ValueError(\"Matrices are not compatible for multiplication\")\n",
    "    \n",
    "    # Initialize the result matrix with zero values\n",
    "    result = [[0 for _ in range(len(matrix2[0]))] for _ in range(len(matrix1))]\n",
    "    \n",
    "    # Multiply the matrices\n",
    "    for i in range(len(matrix1)):\n",
    "        for j in range(len(matrix2[0])):\n",
    "            for k in range(len(matrix2)):\n",
    "                result[i][j] += matrix1[i][k] * matrix2[k][j]\n",
    "    \n",
    "    return result\n",
    "\n",
    "# Driver code\n",
    "\n",
    "print(result)"
   ]
  },
  {
   "cell_type": "markdown",
   "id": "22ba789c",
   "metadata": {},
   "source": [
    "#### Write a function that takes n as an input and creates a list of n lists such that ith list contains first five multiples of i."
   ]
  },
  {
   "cell_type": "code",
   "execution_count": 24,
   "id": "3cc4f72d",
   "metadata": {},
   "outputs": [
    {
     "name": "stdout",
     "output_type": "stream",
     "text": [
      "Enter a number: 3\n",
      "[1, 2, 3, 4, 5]\n",
      "[2, 4, 6, 8, 10]\n",
      "[3, 6, 9, 12, 15]\n"
     ]
    }
   ],
   "source": [
    "def create_multiples_list(n):\n",
    "    result = []\n",
    "    for i in range(1, n + 1):\n",
    "        result.append([i * j for j in range(1, 6)])\n",
    "    return result\n",
    "\n",
    "# Driver code\n",
    "\n",
    "n = int(input(\"Enter a number: \"))\n",
    "multiples_list = create_multiples_list(n)\n",
    "\n",
    "for lst in multiples_list:\n",
    "    print(lst)\n"
   ]
  },
  {
   "cell_type": "code",
   "execution_count": null,
   "id": "7ae7b18f",
   "metadata": {},
   "outputs": [],
   "source": []
  }
 ],
 "metadata": {
  "kernelspec": {
   "display_name": "Python 3 (ipykernel)",
   "language": "python",
   "name": "python3"
  },
  "language_info": {
   "codemirror_mode": {
    "name": "ipython",
    "version": 3
   },
   "file_extension": ".py",
   "mimetype": "text/x-python",
   "name": "python",
   "nbconvert_exporter": "python",
   "pygments_lexer": "ipython3",
   "version": "3.11.5"
  }
 },
 "nbformat": 4,
 "nbformat_minor": 5
}
