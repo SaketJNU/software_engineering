{
 "cells": [
  {
   "cell_type": "markdown",
   "id": "19e2a7d1",
   "metadata": {},
   "source": [
    "#### 21. Write a program that inputs a text file. The program should print all of the unique words in the file in alphabetical order. ####"
   ]
  },
  {
   "cell_type": "code",
   "execution_count": 5,
   "id": "9a793a9c",
   "metadata": {},
   "outputs": [
    {
     "name": "stdout",
     "output_type": "stream",
     "text": [
      "Enter the file name: Program21_file.txt\n",
      "Unique words in alphabetical order:\n",
      "Open\n",
      "Print\n",
      "Python\n",
      "Remove\n",
      "Sort\n",
      "Split\n",
      "To\n",
      "a\n",
      "all\n",
      "alphabetical\n",
      "alphabetically\n",
      "and\n",
      "by\n",
      "converting\n",
      "create\n",
      "duplicates\n",
      "extracts\n",
      "file\n",
      "follow\n",
      "from\n",
      "in\n",
      "into\n",
      "order\n",
      "prints\n",
      "program\n",
      "read\n",
      "reads\n",
      "set\n",
      "sorted\n",
      "steps\n",
      "text\n",
      "that\n",
      "the\n",
      "them\n",
      "these\n",
      "to\n",
      "unique\n",
      "words\n"
     ]
    }
   ],
   "source": [
    "# Function to process the text file and print unique words in alphabetical order\n",
    "def print_unique_words(file_name):\n",
    "    try:\n",
    "        # Open the file\n",
    "        with open(file_name, 'r') as file:\n",
    "            # Read the file contents\n",
    "            text = file.read()\n",
    "        \n",
    "        # Remove punctuation and split the text into words\n",
    "        words = text.split()\n",
    "        \n",
    "        # Convert words to lowercase to make the comparison case-insensitive\n",
    "        words = [word.strip('.,!?()[]{}\":;') for word in words]                          # Remove punctuation\n",
    "        \n",
    "        # Convert the list of words to a set to remove duplicates\n",
    "        unique_words = set(words)\n",
    "        \n",
    "        # Sort the words alphabetically\n",
    "        sorted_words = sorted(unique_words)\n",
    "        \n",
    "        # Print the unique words in alphabetical order\n",
    "        print(\"Unique words in alphabetical order:\")\n",
    "        for word in sorted_words:\n",
    "            print(word)\n",
    "    \n",
    "    except FileNotFoundError:\n",
    "        print(f\"The file at {file_name} was not found.\")\n",
    "    except Exception as e:\n",
    "        print(f\"An error occurred: {e}\")\n",
    "\n",
    " # Driver code        \n",
    "    \n",
    "# Input the path to the text file\n",
    "file_name = input(\"Enter the file name: \")\n",
    "# Call the function to print unique words\n",
    "print_unique_words(file_name)"
   ]
  },
  {
   "cell_type": "markdown",
   "id": "e8818fe0",
   "metadata": {},
   "source": [
    "#### 22. Write a python program to open and write “hello world” into a file. ####"
   ]
  },
  {
   "cell_type": "code",
   "execution_count": 7,
   "id": "feb0a195",
   "metadata": {},
   "outputs": [
    {
     "name": "stdout",
     "output_type": "stream",
     "text": [
      "Text 'hello world' has been written to 'hello_world.txt'\n"
     ]
    }
   ],
   "source": [
    "# Open a file in write mode ('w')\n",
    "def print_hello():\n",
    "    with open('hello_world.txt', 'w') as file:\n",
    "        # Write \"hello world\" to the file\n",
    "        file.write(\"hello world\")\n",
    "        print(\"Text 'hello world' has been written to 'hello_world.txt'\")\n",
    "\n",
    "# Driver code\n",
    "print_hello()"
   ]
  },
  {
   "cell_type": "markdown",
   "id": "6891644b",
   "metadata": {},
   "source": [
    "#### 23. Write a python program to write the content “hi python programming” for the above existing file. ####"
   ]
  },
  {
   "cell_type": "code",
   "execution_count": 9,
   "id": "9b5ea5e7",
   "metadata": {},
   "outputs": [
    {
     "name": "stdout",
     "output_type": "stream",
     "text": [
      "Text 'hi python programming' has been written to 'hello_world.txt'\n"
     ]
    }
   ],
   "source": [
    "def hello_again():\n",
    "    # Open the file in append mode ('a')\n",
    "    with open('hello_world.txt', 'a') as file:\n",
    "    # Write \"hi python programming\" to the file\n",
    "        file.write(\"hi python programming\\n\")\n",
    "\n",
    "    print(\"Text 'hi python programming' has been written to 'hello_world.txt'\")\n",
    "\n",
    "# Driver code\n",
    "\n",
    "hello_again()"
   ]
  },
  {
   "cell_type": "markdown",
   "id": "26d8d221",
   "metadata": {},
   "source": [
    "#### 24. Write a program to double a given number and add two numbers using lambda(). ####"
   ]
  },
  {
   "cell_type": "code",
   "execution_count": 10,
   "id": "8909993a",
   "metadata": {},
   "outputs": [
    {
     "name": "stdout",
     "output_type": "stream",
     "text": [
      "The double of 5 is: 10\n",
      "The sum of 7 and 10 is: 17\n"
     ]
    }
   ],
   "source": [
    "# Lambda function to double a given number\n",
    "double = lambda x: x * 2\n",
    "\n",
    "# Lambda function to add two numbers\n",
    "add = lambda x, y: x + y\n",
    "\n",
    "# Test the functions\n",
    "number_to_double = 5\n",
    "number1 = 7\n",
    "number2 = 10\n",
    "\n",
    "# Doubling the number\n",
    "doubled_result = double(number_to_double)\n",
    "\n",
    "# Adding two numbers\n",
    "sum_result = add(number1, number2)\n",
    "\n",
    "# Output the results\n",
    "print(f\"The double of {number_to_double} is: {doubled_result}\")\n",
    "print(f\"The sum of {number1} and {number2} is: {sum_result}\")"
   ]
  },
  {
   "cell_type": "code",
   "execution_count": null,
   "id": "c35fef35",
   "metadata": {},
   "outputs": [],
   "source": []
  }
 ],
 "metadata": {
  "kernelspec": {
   "display_name": "Python 3 (ipykernel)",
   "language": "python",
   "name": "python3"
  },
  "language_info": {
   "codemirror_mode": {
    "name": "ipython",
    "version": 3
   },
   "file_extension": ".py",
   "mimetype": "text/x-python",
   "name": "python",
   "nbconvert_exporter": "python",
   "pygments_lexer": "ipython3",
   "version": "3.11.5"
  }
 },
 "nbformat": 4,
 "nbformat_minor": 5
}
