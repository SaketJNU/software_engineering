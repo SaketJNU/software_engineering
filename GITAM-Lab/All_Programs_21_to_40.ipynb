{
 "cells": [
  {
   "cell_type": "markdown",
   "id": "8a4cb60c",
   "metadata": {},
   "source": [
    "#### 21. Write a program that inputs a text file. The program should print all of the unique words in the file in alphabetical order. ####"
   ]
  },
  {
   "cell_type": "code",
   "execution_count": 5,
   "id": "b5b81bad",
   "metadata": {},
   "outputs": [
    {
     "name": "stdout",
     "output_type": "stream",
     "text": [
      "Enter the file name: Program21_file.txt\n",
      "Unique words in alphabetical order:\n",
      "Open\n",
      "Print\n",
      "Python\n",
      "Remove\n",
      "Sort\n",
      "Split\n",
      "To\n",
      "a\n",
      "all\n",
      "alphabetical\n",
      "alphabetically\n",
      "and\n",
      "by\n",
      "converting\n",
      "create\n",
      "duplicates\n",
      "extracts\n",
      "file\n",
      "follow\n",
      "from\n",
      "in\n",
      "into\n",
      "order\n",
      "prints\n",
      "program\n",
      "read\n",
      "reads\n",
      "set\n",
      "sorted\n",
      "steps\n",
      "text\n",
      "that\n",
      "the\n",
      "them\n",
      "these\n",
      "to\n",
      "unique\n",
      "words\n"
     ]
    }
   ],
   "source": [
    "# Function to process the text file and print unique words in alphabetical order\n",
    "def print_unique_words(file_name):\n",
    "    try:\n",
    "        # Open the file\n",
    "        with open(file_name, 'r') as file:\n",
    "            # Read the file contents\n",
    "            text = file.read()\n",
    "        \n",
    "        # Remove punctuation and split the text into words\n",
    "        words = text.split()\n",
    "        \n",
    "        # Convert words to lowercase to make the comparison case-insensitive\n",
    "        words = [word.strip('.,!?()[]{}\":;') for word in words]                          # Remove punctuation\n",
    "        \n",
    "        # Convert the list of words to a set to remove duplicates\n",
    "        unique_words = set(words)\n",
    "        \n",
    "        # Sort the words alphabetically\n",
    "        sorted_words = sorted(unique_words)\n",
    "        \n",
    "        # Print the unique words in alphabetical order\n",
    "        print(\"Unique words in alphabetical order:\")\n",
    "        for word in sorted_words:\n",
    "            print(word)\n",
    "    \n",
    "    except FileNotFoundError:\n",
    "        print(f\"The file at {file_name} was not found.\")\n",
    "    except Exception as e:\n",
    "        print(f\"An error occurred: {e}\")\n",
    "\n",
    " # Driver code        \n",
    "    \n",
    "# Input the path to the text file\n",
    "file_name = input(\"Enter the file name: \")\n",
    "# Call the function to print unique words\n",
    "print_unique_words(file_name)"
   ]
  },
  {
   "cell_type": "markdown",
   "id": "88b16cd2",
   "metadata": {},
   "source": [
    "#### 22. Write a python program to open and write “hello world” into a file. ####"
   ]
  },
  {
   "cell_type": "code",
   "execution_count": 7,
   "id": "5fda15b3",
   "metadata": {},
   "outputs": [
    {
     "name": "stdout",
     "output_type": "stream",
     "text": [
      "Text 'hello world' has been written to 'hello_world.txt'\n"
     ]
    }
   ],
   "source": [
    "# Open a file in write mode ('w')\n",
    "def print_hello():\n",
    "    with open('hello_world.txt', 'w') as file:\n",
    "        # Write \"hello world\" to the file\n",
    "        file.write(\"hello world\")\n",
    "        print(\"Text 'hello world' has been written to 'hello_world.txt'\")\n",
    "\n",
    "# Driver code\n",
    "print_hello()"
   ]
  },
  {
   "cell_type": "markdown",
   "id": "3f6d8e1e",
   "metadata": {},
   "source": [
    "#### 23. Write a python program to write the content “hi python programming” for the above existing file. ####"
   ]
  },
  {
   "cell_type": "code",
   "execution_count": 9,
   "id": "d46b170c",
   "metadata": {},
   "outputs": [
    {
     "name": "stdout",
     "output_type": "stream",
     "text": [
      "Text 'hi python programming' has been written to 'hello_world.txt'\n"
     ]
    }
   ],
   "source": [
    "def hello_again():\n",
    "    # Open the file in append mode ('a')\n",
    "    with open('hello_world.txt', 'a') as file:\n",
    "    # Write \"hi python programming\" to the file\n",
    "        file.write(\"hi python programming\\n\")\n",
    "\n",
    "    print(\"Text 'hi python programming' has been written to 'hello_world.txt'\")\n",
    "\n",
    "# Driver code\n",
    "\n",
    "hello_again()"
   ]
  },
  {
   "cell_type": "markdown",
   "id": "ce2d1799",
   "metadata": {},
   "source": [
    "#### 24. Write a program to double a given number and add two numbers using lambda(). ####"
   ]
  },
  {
   "cell_type": "code",
   "execution_count": 10,
   "id": "99779168",
   "metadata": {},
   "outputs": [
    {
     "name": "stdout",
     "output_type": "stream",
     "text": [
      "The double of 5 is: 10\n",
      "The sum of 7 and 10 is: 17\n"
     ]
    }
   ],
   "source": [
    "# Lambda function to double a given number\n",
    "double = lambda x: x * 2\n",
    "\n",
    "# Lambda function to add two numbers\n",
    "add = lambda x, y: x + y\n",
    "\n",
    "# Test the functions\n",
    "number_to_double = 5\n",
    "number1 = 7\n",
    "number2 = 10\n",
    "\n",
    "# Doubling the number\n",
    "doubled_result = double(number_to_double)\n",
    "\n",
    "# Adding two numbers\n",
    "sum_result = add(number1, number2)\n",
    "\n",
    "# Output the results\n",
    "print(f\"The double of {number_to_double} is: {doubled_result}\")\n",
    "print(f\"The sum of {number1} and {number2} is: {sum_result}\")"
   ]
  },
  {
   "cell_type": "markdown",
   "id": "8901fc69",
   "metadata": {},
   "source": [
    "#### 25. Write a function that takes the lengths of three sides: side1, side2 and side3 of the triangle as the inputfrom the user using input function and return the area and perimeter of the triangle as atuple. Also, assert that sum of the length of any two sides is greater than the third side.####"
   ]
  },
  {
   "cell_type": "code",
   "execution_count": 17,
   "id": "c6a7f29a",
   "metadata": {},
   "outputs": [
    {
     "name": "stdout",
     "output_type": "stream",
     "text": [
      "Enter the length of side1: 3\n",
      "Enter the length of side2: 4\n",
      "Enter the length of side3: 5\n",
      "The area of the triangle is: 6.0\n",
      "The perimeter of the triangle is: 12.0\n"
     ]
    }
   ],
   "source": [
    "import math\n",
    "\n",
    "# Function to compute area and perimeter of a triangle\n",
    "def triangle_properties(side1, side2, side3):\n",
    "    # Assert that the sum of the length of any two sides is greater than the third side\n",
    "    assert (side1 + side2 > side3), \"The sum of side1 and side2 must be greater than side3\"\n",
    "    assert (side1 + side3 > side2), \"The sum of side1 and side3 must be greater than side2\"\n",
    "    assert (side2 + side3 > side1), \"The sum of side2 and side3 must be greater than side1\"\n",
    "    \n",
    "    # Calculate the perimeter of the triangle\n",
    "    perimeter = side1 + side2 + side3\n",
    "    \n",
    "    # Calculate the semi-perimeter (s) for Heron's formula\n",
    "    s = perimeter / 2\n",
    "    \n",
    "    # Calculate the area using Heron's formula\n",
    "    area = math.sqrt(s * (s - side1) * (s - side2) * (s - side3))\n",
    "    \n",
    "    return (area, perimeter)\n",
    "\n",
    "# Driver code\n",
    "\n",
    "# Input the lengths of the sides of the triangle\n",
    "side1 = float(input(\"Enter the length of side1: \"))\n",
    "side2 = float(input(\"Enter the length of side2: \"))\n",
    "side3 = float(input(\"Enter the length of side3: \"))\n",
    "\n",
    "# Call the function to compute area and perimeter\n",
    "try:\n",
    "    area, perimeter = triangle_properties(side1, side2, side3)\n",
    "    print(f\"The area of the triangle is: {area}\")\n",
    "    print(f\"The perimeter of the triangle is: {perimeter}\")\n",
    "except AssertionError as e:\n",
    "    print(e)\n"
   ]
  },
  {
   "cell_type": "markdown",
   "id": "28766671",
   "metadata": {},
   "source": [
    "#### 26. Write a Python function to find then $n^{th}$ term of Fibonacci sequennce and its factorial. Return the result as a list. ####"
   ]
  },
  {
   "cell_type": "code",
   "execution_count": null,
   "id": "ee43b6a2",
   "metadata": {},
   "outputs": [],
   "source": []
  }
 ],
 "metadata": {
  "kernelspec": {
   "display_name": "Python 3 (ipykernel)",
   "language": "python",
   "name": "python3"
  },
  "language_info": {
   "codemirror_mode": {
    "name": "ipython",
    "version": 3
   },
   "file_extension": ".py",
   "mimetype": "text/x-python",
   "name": "python",
   "nbconvert_exporter": "python",
   "pygments_lexer": "ipython3",
   "version": "3.11.5"
  }
 },
 "nbformat": 4,
 "nbformat_minor": 5
}
