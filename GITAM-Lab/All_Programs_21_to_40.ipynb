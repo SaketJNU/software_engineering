{
 "cells": [
  {
   "cell_type": "markdown",
   "id": "26646012",
   "metadata": {},
   "source": [
    "#### 21. Write a program that inputs a text file. The program should print all of the unique words in the file in alphabetical order. ####"
   ]
  },
  {
   "cell_type": "code",
   "execution_count": 5,
   "id": "4c6d50e2",
   "metadata": {},
   "outputs": [
    {
     "name": "stdout",
     "output_type": "stream",
     "text": [
      "Enter the file name: Program21_file.txt\n",
      "Unique words in alphabetical order:\n",
      "Open\n",
      "Print\n",
      "Python\n",
      "Remove\n",
      "Sort\n",
      "Split\n",
      "To\n",
      "a\n",
      "all\n",
      "alphabetical\n",
      "alphabetically\n",
      "and\n",
      "by\n",
      "converting\n",
      "create\n",
      "duplicates\n",
      "extracts\n",
      "file\n",
      "follow\n",
      "from\n",
      "in\n",
      "into\n",
      "order\n",
      "prints\n",
      "program\n",
      "read\n",
      "reads\n",
      "set\n",
      "sorted\n",
      "steps\n",
      "text\n",
      "that\n",
      "the\n",
      "them\n",
      "these\n",
      "to\n",
      "unique\n",
      "words\n"
     ]
    }
   ],
   "source": [
    "# Function to process the text file and print unique words in alphabetical order\n",
    "def print_unique_words(file_name):\n",
    "    try:\n",
    "        # Open the file\n",
    "        with open(file_name, 'r') as file:\n",
    "            # Read the file contents\n",
    "            text = file.read()\n",
    "        \n",
    "        # Remove punctuation and split the text into words\n",
    "        words = text.split()\n",
    "        \n",
    "        # Convert words to lowercase to make the comparison case-insensitive\n",
    "        words = [word.strip('.,!?()[]{}\":;') for word in words]                          # Remove punctuation\n",
    "        \n",
    "        # Convert the list of words to a set to remove duplicates\n",
    "        unique_words = set(words)\n",
    "        \n",
    "        # Sort the words alphabetically\n",
    "        sorted_words = sorted(unique_words)\n",
    "        \n",
    "        # Print the unique words in alphabetical order\n",
    "        print(\"Unique words in alphabetical order:\")\n",
    "        for word in sorted_words:\n",
    "            print(word)\n",
    "    \n",
    "    except FileNotFoundError:\n",
    "        print(f\"The file at {file_name} was not found.\")\n",
    "    except Exception as e:\n",
    "        print(f\"An error occurred: {e}\")\n",
    "\n",
    " # Driver code        \n",
    "    \n",
    "# Input the path to the text file\n",
    "file_name = input(\"Enter the file name: \")\n",
    "# Call the function to print unique words\n",
    "print_unique_words(file_name)"
   ]
  },
  {
   "cell_type": "markdown",
   "id": "2f298694",
   "metadata": {},
   "source": [
    "#### 22. Write a python program to open and write “hello world” into a file. ####"
   ]
  },
  {
   "cell_type": "code",
   "execution_count": 7,
   "id": "d5ec62c9",
   "metadata": {},
   "outputs": [
    {
     "name": "stdout",
     "output_type": "stream",
     "text": [
      "Text 'hello world' has been written to 'hello_world.txt'\n"
     ]
    }
   ],
   "source": [
    "# Open a file in write mode ('w')\n",
    "def print_hello():\n",
    "    with open('hello_world.txt', 'w') as file:\n",
    "        # Write \"hello world\" to the file\n",
    "        file.write(\"hello world\")\n",
    "        print(\"Text 'hello world' has been written to 'hello_world.txt'\")\n",
    "\n",
    "# Driver code\n",
    "print_hello()"
   ]
  },
  {
   "cell_type": "markdown",
   "id": "a01b6e02",
   "metadata": {},
   "source": [
    "#### 23. Write a python program to write the content “hi python programming” for the above existing file. ####"
   ]
  },
  {
   "cell_type": "code",
   "execution_count": null,
   "id": "440aff01",
   "metadata": {},
   "outputs": [],
   "source": []
  }
 ],
 "metadata": {
  "kernelspec": {
   "display_name": "Python 3 (ipykernel)",
   "language": "python",
   "name": "python3"
  },
  "language_info": {
   "codemirror_mode": {
    "name": "ipython",
    "version": 3
   },
   "file_extension": ".py",
   "mimetype": "text/x-python",
   "name": "python",
   "nbconvert_exporter": "python",
   "pygments_lexer": "ipython3",
   "version": "3.11.5"
  }
 },
 "nbformat": 4,
 "nbformat_minor": 5
}
