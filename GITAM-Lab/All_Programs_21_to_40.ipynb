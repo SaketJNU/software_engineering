{
 "cells": [
  {
   "cell_type": "markdown",
   "id": "15725631",
   "metadata": {},
   "source": [
    "#### 21. Write a program that inputs a text file. The program should print all of the unique words in the file in alphabetical order. ####"
   ]
  },
  {
   "cell_type": "code",
   "execution_count": 5,
   "id": "9cfd9109",
   "metadata": {},
   "outputs": [
    {
     "name": "stdout",
     "output_type": "stream",
     "text": [
      "Enter the file name: Program21_file.txt\n",
      "Unique words in alphabetical order:\n",
      "Open\n",
      "Print\n",
      "Python\n",
      "Remove\n",
      "Sort\n",
      "Split\n",
      "To\n",
      "a\n",
      "all\n",
      "alphabetical\n",
      "alphabetically\n",
      "and\n",
      "by\n",
      "converting\n",
      "create\n",
      "duplicates\n",
      "extracts\n",
      "file\n",
      "follow\n",
      "from\n",
      "in\n",
      "into\n",
      "order\n",
      "prints\n",
      "program\n",
      "read\n",
      "reads\n",
      "set\n",
      "sorted\n",
      "steps\n",
      "text\n",
      "that\n",
      "the\n",
      "them\n",
      "these\n",
      "to\n",
      "unique\n",
      "words\n"
     ]
    }
   ],
   "source": [
    "# Function to process the text file and print unique words in alphabetical order\n",
    "def print_unique_words(file_name):\n",
    "    try:\n",
    "        # Open the file\n",
    "        with open(file_name, 'r') as file:\n",
    "            # Read the file contents\n",
    "            text = file.read()\n",
    "        \n",
    "        # Remove punctuation and split the text into words\n",
    "        words = text.split()\n",
    "        \n",
    "        # Convert words to lowercase to make the comparison case-insensitive\n",
    "        words = [word.strip('.,!?()[]{}\":;') for word in words]                          # Remove punctuation\n",
    "        \n",
    "        # Convert the list of words to a set to remove duplicates\n",
    "        unique_words = set(words)\n",
    "        \n",
    "        # Sort the words alphabetically\n",
    "        sorted_words = sorted(unique_words)\n",
    "        \n",
    "        # Print the unique words in alphabetical order\n",
    "        print(\"Unique words in alphabetical order:\")\n",
    "        for word in sorted_words:\n",
    "            print(word)\n",
    "    \n",
    "    except FileNotFoundError:\n",
    "        print(f\"The file at {file_name} was not found.\")\n",
    "    except Exception as e:\n",
    "        print(f\"An error occurred: {e}\")\n",
    "\n",
    " # Driver code        \n",
    "    \n",
    "# Input the path to the text file\n",
    "file_name = input(\"Enter the file name: \")\n",
    "# Call the function to print unique words\n",
    "print_unique_words(file_name)"
   ]
  },
  {
   "cell_type": "markdown",
   "id": "a223063e",
   "metadata": {},
   "source": [
    "#### 22. Write a python program to open and write “hello world” into a file. ####"
   ]
  },
  {
   "cell_type": "code",
   "execution_count": 7,
   "id": "fa65c4ba",
   "metadata": {},
   "outputs": [
    {
     "name": "stdout",
     "output_type": "stream",
     "text": [
      "Text 'hello world' has been written to 'hello_world.txt'\n"
     ]
    }
   ],
   "source": [
    "# Open a file in write mode ('w')\n",
    "def print_hello():\n",
    "    with open('hello_world.txt', 'w') as file:\n",
    "        # Write \"hello world\" to the file\n",
    "        file.write(\"hello world\")\n",
    "        print(\"Text 'hello world' has been written to 'hello_world.txt'\")\n",
    "\n",
    "# Driver code\n",
    "print_hello()"
   ]
  },
  {
   "cell_type": "markdown",
   "id": "51ebce25",
   "metadata": {},
   "source": [
    "#### 23. Write a python program to write the content “hi python programming” for the above existing file. ####"
   ]
  },
  {
   "cell_type": "code",
   "execution_count": 9,
   "id": "5e187ec9",
   "metadata": {},
   "outputs": [
    {
     "name": "stdout",
     "output_type": "stream",
     "text": [
      "Text 'hi python programming' has been written to 'hello_world.txt'\n"
     ]
    }
   ],
   "source": [
    "def hello_again():\n",
    "    # Open the file in append mode ('a')\n",
    "    with open('hello_world.txt', 'a') as file:\n",
    "    # Write \"hi python programming\" to the file\n",
    "        file.write(\"hi python programming\\n\")\n",
    "\n",
    "    print(\"Text 'hi python programming' has been written to 'hello_world.txt'\")\n",
    "\n",
    "# Driver code\n",
    "\n",
    "hello_again()"
   ]
  },
  {
   "cell_type": "markdown",
   "id": "cf936a92",
   "metadata": {},
   "source": [
    "#### 24. Write a program to double a given number and add two numbers using lambda(). ####"
   ]
  },
  {
   "cell_type": "code",
   "execution_count": 10,
   "id": "f6fbc394",
   "metadata": {},
   "outputs": [
    {
     "name": "stdout",
     "output_type": "stream",
     "text": [
      "The double of 5 is: 10\n",
      "The sum of 7 and 10 is: 17\n"
     ]
    }
   ],
   "source": [
    "# Lambda function to double a given number\n",
    "double = lambda x: x * 2\n",
    "\n",
    "# Lambda function to add two numbers\n",
    "add = lambda x, y: x + y\n",
    "\n",
    "# Test the functions\n",
    "number_to_double = 5\n",
    "number1 = 7\n",
    "number2 = 10\n",
    "\n",
    "# Doubling the number\n",
    "doubled_result = double(number_to_double)\n",
    "\n",
    "# Adding two numbers\n",
    "sum_result = add(number1, number2)\n",
    "\n",
    "# Output the results\n",
    "print(f\"The double of {number_to_double} is: {doubled_result}\")\n",
    "print(f\"The sum of {number1} and {number2} is: {sum_result}\")"
   ]
  },
  {
   "cell_type": "markdown",
   "id": "6f2fb150",
   "metadata": {},
   "source": [
    "#### 25. Write a function that takes the lengths of three sides: side1, side2 and side3 of the triangle as the inputfrom the user using input function and return the area and perimeter of the triangle as atuple. Also, assert that sum of the length of any two sides is greater than the third side.####"
   ]
  },
  {
   "cell_type": "code",
   "execution_count": 17,
   "id": "60fa4a36",
   "metadata": {},
   "outputs": [
    {
     "name": "stdout",
     "output_type": "stream",
     "text": [
      "Enter the length of side1: 3\n",
      "Enter the length of side2: 4\n",
      "Enter the length of side3: 5\n",
      "The area of the triangle is: 6.0\n",
      "The perimeter of the triangle is: 12.0\n"
     ]
    }
   ],
   "source": [
    "import math\n",
    "\n",
    "# Function to compute area and perimeter of a triangle\n",
    "def triangle_properties(side1, side2, side3):\n",
    "    # Assert that the sum of the length of any two sides is greater than the third side\n",
    "    assert (side1 + side2 > side3), \"The sum of side1 and side2 must be greater than side3\"\n",
    "    assert (side1 + side3 > side2), \"The sum of side1 and side3 must be greater than side2\"\n",
    "    assert (side2 + side3 > side1), \"The sum of side2 and side3 must be greater than side1\"\n",
    "    \n",
    "    # Calculate the perimeter of the triangle\n",
    "    perimeter = side1 + side2 + side3\n",
    "    \n",
    "    # Calculate the semi-perimeter (s) for Heron's formula\n",
    "    s = perimeter / 2\n",
    "    \n",
    "    # Calculate the area using Heron's formula\n",
    "    area = math.sqrt(s * (s - side1) * (s - side2) * (s - side3))\n",
    "    \n",
    "    return (area, perimeter)\n",
    "\n",
    "# Driver code\n",
    "\n",
    "# Input the lengths of the sides of the triangle\n",
    "side1 = float(input(\"Enter the length of side1: \"))\n",
    "side2 = float(input(\"Enter the length of side2: \"))\n",
    "side3 = float(input(\"Enter the length of side3: \"))\n",
    "\n",
    "# Call the function to compute area and perimeter\n",
    "try:\n",
    "    area, perimeter = triangle_properties(side1, side2, side3)\n",
    "    print(f\"The area of the triangle is: {area}\")\n",
    "    print(f\"The perimeter of the triangle is: {perimeter}\")\n",
    "except AssertionError as e:\n",
    "    print(e)\n"
   ]
  },
  {
   "cell_type": "markdown",
   "id": "bc663088",
   "metadata": {},
   "source": [
    "#### 26. Write a Python function to find then $n^{th}$ term of Fibonacci sequennce and its factorial. Return the result as a list. ####"
   ]
  },
  {
   "cell_type": "code",
   "execution_count": 18,
   "id": "4d2562e4",
   "metadata": {},
   "outputs": [
    {
     "name": "stdout",
     "output_type": "stream",
     "text": [
      "Enter the value of n: 5\n",
      "The 5th Fibonacci term is: 5\n",
      "The factorial of the 5th Fibonacci term is: 120\n"
     ]
    }
   ],
   "source": [
    "import math\n",
    "\n",
    "def fibonacci_and_factorial(n):\n",
    "    # Calculate the nth Fibonacci number\n",
    "    if n == 0:\n",
    "        fib_n = 0\n",
    "    elif n == 1:\n",
    "        fib_n = 1\n",
    "    else:\n",
    "        a, b = 0, 1\n",
    "        for i in range(2, n + 1):\n",
    "            a, b = b, a + b\n",
    "        fib_n = b\n",
    "    \n",
    "    # Calculate the factorial of the nth Fibonacci number\n",
    "    factorial = math.factorial(fib_n)\n",
    "    \n",
    "    # Return the results as a list [nth Fibonacci term, factorial of that term]\n",
    "    return fib_n, factorial\n",
    "\n",
    "# Driver Code\n",
    "\n",
    "n = int(input(\"Enter the value of n: \"))\n",
    "result = fibonacci_and_factorial(n)\n",
    "print(f\"The {n}th Fibonacci term is: {result[0]}\")\n",
    "print(f\"The factorial of the {n}th Fibonacci term is: {result[1]}\")\n"
   ]
  },
  {
   "cell_type": "markdown",
   "id": "a284f244",
   "metadata": {},
   "source": [
    "#### Write a function that takes a number (>=10) as an input and return the digits of the number as a set. ####"
   ]
  },
  {
   "cell_type": "code",
   "execution_count": 21,
   "id": "7e6a89a4",
   "metadata": {},
   "outputs": [
    {
     "name": "stdout",
     "output_type": "stream",
     "text": [
      "Enter a number (>=10): 234565321\n",
      "The digits of 234565321 as a set are: {'1', '6', '4', '2', '3', '5'}\n"
     ]
    }
   ],
   "source": [
    "def get_digits(num):\n",
    "    if num < 10:\n",
    "        raise ValueError(\"The number should be greater than or equal to 10.\")\n",
    "    \n",
    "    # Convert the number to a string, then use a set to get unique digits\n",
    "    digits = set(str(num))\n",
    "    \n",
    "    # Return the set of digits\n",
    "    return digits\n",
    "\n",
    "\n",
    "# Example usage\n",
    "try:\n",
    "    num = int(input(\"Enter a number (>=10): \"))\n",
    "    digits_set = get_digits(num)\n",
    "    print(f\"The digits of {num} as a set are: {digits_set}\")\n",
    "except ValueError as e:\n",
    "    print(e)"
   ]
  },
  {
   "cell_type": "markdown",
   "id": "acdabb18",
   "metadata": {},
   "source": [
    "#### 28. Use dictionary to store marks of the students in 4 subjects. Write a function to find the name of the student securing highest percentage. (Hint:Names of students are unique) ####"
   ]
  },
  {
   "cell_type": "code",
   "execution_count": 22,
   "id": "339a36aa",
   "metadata": {},
   "outputs": [
    {
     "name": "stdout",
     "output_type": "stream",
     "text": [
      "The student with the highest percentage is Charlie with 95.25%\n"
     ]
    }
   ],
   "source": [
    "def highest_percentage(students_marks):\n",
    "    highest = None\n",
    "    max_percentage = 0\n",
    "    \n",
    "    for student, marks in students_marks.items():\n",
    "        # Calculate the total marks and percentage for the student\n",
    "        total_marks = sum(marks)\n",
    "        percentage = (total_marks / 400) * 100  # Assuming each subject is out of 100\n",
    "        \n",
    "        # Check if this student has the highest percentage so far\n",
    "        if percentage > max_percentage:\n",
    "            max_percentage = percentage\n",
    "            highest = student\n",
    "    \n",
    "    return highest, max_percentage\n",
    "\n",
    "# Driver code\n",
    "\n",
    "# Dictionary to store the marks of students in 4 subjects\n",
    "students_marks = {\n",
    "    \"Alice\": [85, 90, 88, 92],\n",
    "    \"Bob\": [78, 82, 80, 85],\n",
    "    \"Charlie\": [92, 95, 98, 96],\n",
    "    \"David\": [70, 75, 78, 72]\n",
    "}\n",
    "\n",
    "# Find the student with the highest percentage\n",
    "student, percentage = highest_percentage(students_marks)\n",
    "\n",
    "# Output the result\n",
    "print(f\"The student with the highest percentage is {student} with {percentage:.2f}%\")\n"
   ]
  },
  {
   "cell_type": "markdown",
   "id": "ecf3ab99",
   "metadata": {},
   "source": [
    "#### Write a function that takes a sentence as input from the user and calculates the frequency of each letter. Use avariable of dictionary type to maintain the count. ####"
   ]
  },
  {
   "cell_type": "code",
   "execution_count": null,
   "id": "e655cead",
   "metadata": {},
   "outputs": [],
   "source": [
    "def letter_frequency(sentence):\n",
    "    # Initialize an empty dictionary to store letter frequencies\n",
    "    frequency = {}\n",
    "\n",
    "    # Loop through each character in the sentence\n",
    "    for char in sentence:\n",
    "        # Check if the character is a letter (ignoring spaces and punctuation)\n",
    "        if char.isalpha():\n",
    "            # Convert the character to lowercase for case-insensitive counting\n",
    "            char = char.lower()\n",
    "            # Increment the frequency count for the character\n",
    "            if char in frequency:\n",
    "                frequency[char] += 1\n",
    "            else:\n",
    "                frequency[char] = 1\n",
    "\n",
    "    # Return the dictionary with letter frequencies\n",
    "    return frequency\n",
    "\n",
    "# Driver code\n",
    "# Input sentence from the user\n",
    "\n",
    "sentence = input(\"Enter a sentence: \")\n",
    "\n",
    "# Get the letter frequency\n",
    "frequency = letter_frequency(sentence)\n",
    "\n",
    "# Print the result\n",
    "print(\"Letter frequencies:\")\n",
    "for letter, count in frequency.items():\n",
    "    print(f\"{letter}: {count}\")\n"
   ]
  }
 ],
 "metadata": {
  "kernelspec": {
   "display_name": "Python 3 (ipykernel)",
   "language": "python",
   "name": "python3"
  },
  "language_info": {
   "codemirror_mode": {
    "name": "ipython",
    "version": 3
   },
   "file_extension": ".py",
   "mimetype": "text/x-python",
   "name": "python",
   "nbconvert_exporter": "python",
   "pygments_lexer": "ipython3",
   "version": "3.11.5"
  }
 },
 "nbformat": 4,
 "nbformat_minor": 5
}
