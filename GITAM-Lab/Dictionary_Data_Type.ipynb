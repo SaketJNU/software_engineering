{
 "cells": [
  {
   "cell_type": "markdown",
   "id": "77825aea",
   "metadata": {},
   "source": [
    "## This file deals with the dictionary datatype and its associated methods."
   ]
  },
  {
   "cell_type": "markdown",
   "id": "f9315049",
   "metadata": {},
   "source": [
    "#### Since Python 3.7 dictioary data-type is an oordered datatype, so that\n",
    "#### Applying indexing becomes easier."
   ]
  },
  {
   "cell_type": "markdown",
   "id": "e8f0b44f",
   "metadata": {},
   "source": [
    "##### How to define a dictionary data\n",
    "##### A dictionary styarts with { and ends with }. \n",
    "##### It stores data in the key-value pair seperated by :\n",
    "##### Key remains unique but the value can be any data"
   ]
  },
  {
   "cell_type": "code",
   "execution_count": 6,
   "id": "68cec273",
   "metadata": {},
   "outputs": [
    {
     "name": "stdout",
     "output_type": "stream",
     "text": [
      "{'name': 'Dr Saket', 'course': 'Python Lab', 'Semester': 2, 'students': [23, 24, 56, 78, 90, 23]}\n"
     ]
    }
   ],
   "source": [
    "# Define a dictionary\n",
    "\n",
    "my_dict =  {\n",
    "    \"name\" : \"Dr Saket\",\n",
    "    \"course\": \"Python Lab\",\n",
    "    \"Semester\": 2,\n",
    "    \"students\": [23, 24, 56, 78, 90, 23]\n",
    "}\n",
    "print(my_dict)"
   ]
  },
  {
   "cell_type": "markdown",
   "id": "b15a8bb4",
   "metadata": {},
   "source": [
    "###### Here, name, course, Semester amd studensts are keys\n",
    "###### whereas, others are values, values can be any datatype\n"
   ]
  },
  {
   "cell_type": "markdown",
   "id": "b80d9dea",
   "metadata": {},
   "source": [
    "##### We can don any change in dictionary values like,\n",
    "##### change keys, update, delete values\n",
    "##### dictionary do not have duplicate values"
   ]
  },
  {
   "cell_type": "code",
   "execution_count": 8,
   "id": "49f27768",
   "metadata": {},
   "outputs": [
    {
     "name": "stdout",
     "output_type": "stream",
     "text": [
      "{'name': 'Dr S K Choudhqary', 'course': 'Python Lab', 'Semester': 2, 'students': [23, 24, 56, 78, 90, 23]}\n"
     ]
    }
   ],
   "source": [
    "my_dict[\"name\"] = \"Dr S K Choudhqary\"  # updated the value\n",
    "print(my_dict)"
   ]
  },
  {
   "cell_type": "code",
   "execution_count": 10,
   "id": "d77b53a1",
   "metadata": {},
   "outputs": [
    {
     "name": "stdout",
     "output_type": "stream",
     "text": [
      "{'name': 'Chouodhary', 'course': 'Python Lab', 'Semester': 2, 'students': [23, 24, 56, 78, 90, 23]}\n"
     ]
    }
   ],
   "source": [
    "my_dict[\"name\"] = \"Chouodhary\" # duplicate will override the previous value\n",
    "print(my_dict)"
   ]
  },
  {
   "cell_type": "code",
   "execution_count": 13,
   "id": "fc2b0947",
   "metadata": {},
   "outputs": [
    {
     "name": "stdout",
     "output_type": "stream",
     "text": [
      "All keys in the dictionary are dict_keys(['name', 'course', 'Semester', 'students'])\n"
     ]
    }
   ],
   "source": [
    "#  Print the name of all keys in the dictionary\n",
    "print(\"All keys in the dictionary are\", my_dict.keys())"
   ]
  },
  {
   "cell_type": "code",
   "execution_count": 16,
   "id": "6ba7c667",
   "metadata": {},
   "outputs": [
    {
     "name": "stdout",
     "output_type": "stream",
     "text": [
      "All values iin the dictionary are:  dict_values(['Chouodhary', 'Python Lab', 2, [23, 24, 56, 78, 90, 23]])\n"
     ]
    }
   ],
   "source": [
    "# Print all value in the dictionary\n",
    "print(\"All values iin the dictionary are: \", my_dict.values())"
   ]
  },
  {
   "cell_type": "code",
   "execution_count": 17,
   "id": "ebe48099",
   "metadata": {},
   "outputs": [
    {
     "name": "stdout",
     "output_type": "stream",
     "text": [
      "name\n",
      "course\n",
      "Semester\n",
      "students\n"
     ]
    }
   ],
   "source": [
    "# print one key at a time\n",
    "for key in my_dict.keys():\n",
    "    print(key)"
   ]
  },
  {
   "cell_type": "code",
   "execution_count": 19,
   "id": "9ae659b8",
   "metadata": {},
   "outputs": [
    {
     "name": "stdout",
     "output_type": "stream",
     "text": [
      "Chouodhary\n",
      "Python Lab\n",
      "2\n",
      "[23, 24, 56, 78, 90, 23]\n"
     ]
    }
   ],
   "source": [
    "# print one value at a time\n",
    "for value in my_dict.values():\n",
    "    print(value)\n",
    "    "
   ]
  },
  {
   "cell_type": "code",
   "execution_count": 20,
   "id": "d6f4d10a",
   "metadata": {},
   "outputs": [
    {
     "name": "stdout",
     "output_type": "stream",
     "text": [
      "key is name and its value is Chouodhary\n",
      "key is course and its value is Python Lab\n",
      "key is Semester and its value is 2\n",
      "key is students and its value is [23, 24, 56, 78, 90, 23]\n"
     ]
    }
   ],
   "source": [
    "# print each with its value\n",
    "for k, v in my_dict.items():\n",
    "    print(\"key is {} and its value is {}\".format(k,v))"
   ]
  },
  {
   "cell_type": "markdown",
   "id": "702ab31f",
   "metadata": {},
   "source": [
    "##### There are four types of collections in pythoon\n",
    "- List\n",
    "- Tuple\n",
    "- Set\n",
    "- dictionary\n",
    "\n",
    "The value can be any one of these collections."
   ]
  },
  {
   "cell_type": "code",
   "execution_count": 25,
   "id": "c5ebf2c2",
   "metadata": {},
   "outputs": [
    {
     "name": "stdout",
     "output_type": "stream",
     "text": [
      "Chouodhary\n"
     ]
    }
   ],
   "source": [
    "# get a specfic  value\n",
    "if \"name\" in my_dict.keys():\n",
    "    print(my_dict.get(\"name\"))"
   ]
  },
  {
   "cell_type": "code",
   "execution_count": null,
   "id": "ff6d05ab",
   "metadata": {},
   "outputs": [],
   "source": []
  }
 ],
 "metadata": {
  "kernelspec": {
   "display_name": "Python 3 (ipykernel)",
   "language": "python",
   "name": "python3"
  },
  "language_info": {
   "codemirror_mode": {
    "name": "ipython",
    "version": 3
   },
   "file_extension": ".py",
   "mimetype": "text/x-python",
   "name": "python",
   "nbconvert_exporter": "python",
   "pygments_lexer": "ipython3",
   "version": "3.11.5"
  }
 },
 "nbformat": 4,
 "nbformat_minor": 5
}
