"metadata": {},
            "outputs": [],
            "source": [
                "import numpy as np"
            ]
        },
        {
            "cell_type": "code",
            "execution_count": null,
            "metadata": {},
            "outputs": [],
            "source": [
                "str1 = 'saket\\'s msg''"
            ]
        },
        {
            "cell_type": "code",
            "execution_count": 2,
            "metadata": {},
            "outputs": [],
            "source": [
                "arr = np.array( [[ 1, 2, 3], [ 4, 2, 5]])\n",
                "# Converting list into array"
            ]
        },
        {
            "cell_type": "code",
            "execution_count": 3,
            "metadata": {},
            "outputs": [
                {
                    "name": "stdout",
                    "output_type": "stream",
                    "text": [
                        "Array is of type:  <class 'numpy.ndarray'>\n"
                    ]
                }
            ],
            "source": [
                "print(\"Array is of type: \", type(arr)) "
            ]
        },
        {
            "cell_type": "code",
            "execution_count": 4,
            "metadata": {},
            "outputs": [
                {
                    "name": "stdout",
                    "output_type": "stream",
                    "text": [
                        "No. of dimensions:  2\n"
                    ]
                }
            ],
            "source": [
                "print(\"No. of dimensions: \", arr.ndim) "
            ]
        },
        {
            "cell_type": "code",
            "execution_count": 5,
            "metadata": {},
            "outputs": [
                {
                    "name": "stdout",
                    "output_type": "stream",
                    "text": [
                        "Shape of array:  (2, 3)\n"
                    ]
                }
            ],
            "source": [
                "print(\"Shape of array: \", arr.shape)"
            ]
        },
        {
            "cell_type": "code",
            "execution_count": 6,
            "metadata": {},
            "outputs": [
                {
                    "name": "stdout",
                    "output_type": "stream",
                    "text": [
                        "Size of array:  6\n"
                    ]
                },
                {
                    "data": {
                        "text/plain": [
                            "array([[1, 2, 3],\n",
                            "       [4, 2, 5]])"
                        ]
                    },
                    "execution_count": 6,
                    "metadata": {},
                    "output_type": "execute_result"
                }
            ],
            "source": [
                "print(\"Size of array: \", arr.size) \n",
                "arr"
            ]
        },
        {
            "cell_type": "code",
            "execution_count": 7,
            "metadata": {},
            "outputs": [
                {
                    "name": "stdout",
                    "output_type": "stream",
                    "text": [
                        "Array stores elements of type:  int32\n"
                    ]
                }
            ],
            "source": [
                "print(\"Array stores elements of type: \", arr.dtype) "
            ]
        },
        {
            "cell_type": "code",
            "execution_count": 8,
            "metadata": {},
            "outputs": [
                {
                    "name": "stdout",
                    "output_type": "stream",
                    "text": [
                        "Array created using passed list:\n",
                        " [[1. 2. 4.]\n",
                        " [5. 8. 7.]]\n"
                    ]
                }
            ],
            "source": [
                "a = np.array([[1, 2, 4], [5, 8, 7]], dtype = 'float') \n",
                "print (\"Array created using passed list:\n\", a)"
            ]
        },
        {
            "cell_type": "code",
            "execution_count": null,
            "metadata": {},
            "outputs": [],
            "source": []
        },
        {
            "cell_type": "code",
            "execution_count": 9,
            "metadata": {},
            "outputs": [
                {
                    "name": "stdout",
                    "output_type": "stream",
                    "text": [
                        "\n",
                        "Array created using passed tuple:\n",
                        " [1. 3. 2.]\n"
                    ]
                }
            ],
            "source": [
                "b = np.array((1 , 3, 2), dtype='float') \n",
                "print (\"\nArray created using passed tuple:\n\", b) "
            ]
        },
        {
            "cell_type": "code",
            "execution_count": 13,
            "metadata": {},
            "outputs": [
                {
                    "name": "stdout",
                    "output_type": "stream",
                    "text": [
                        "\n",
                        "An array initialized with all zeros:\n",
                        " [[0 0 0 0]\n",
                        " [0 0 0 0]\n",
                        " [0 0 0 0]]\n"
                    ]
                }
            ],
            "source": [
                "c = np.zeros((3, 4), dtype='int32') \n",
                "d = np.ones((3,4), dtype=int) \n",
                "print (\"\nAn array initialized with all one:\n\", d"
            ]
        },
        {
            "cell_type": "code",
            "execution_count": 14,
            "metadata": {},
            "outputs": [
                {
                    "name": "stdout",
                    "output_type": "stream",
                    "text": [
                        "\n",
                        "An array initialized with all 6s. Array type is complex:\n",
                        " [[1.+0.j 1.+0.j 1.+0.j]\n",
                        " [1.+0.j 1.+0.j 1.+0.j]\n",
                        " [1.+0.j 1.+0.j 1.+0.j]]\n"
                    ]
                }
            ],
            "source": [
                "d = np.full((3, 3), 1, dtype = 'complex') \n",
                "print (\"\nAn array initialized with all 6s. Array type is complex:\n\",d) "
            ]
        },
        {
            "cell_type": "code",
            "execution_count": 17,
            "metadata": {},
            "outputs": [
                {
                    "name": "stdout",
                    "output_type": "stream",
                    "text": [
                        "\n",
                        "A random array:\n",
                        " [[0.14737979 0.07382336]\n",
                        " [0.94492456 0.8013114 ]]\n"
                    ]
                }
            ],
            "source": [
                "e = np.random.random((2, 2))\n",
                "print (\"\nA random array:\n\", e)"
            ]
        },
        {
            "cell_type": "code",
            "execution_count": 19,
            "metadata": {},
            "outputs": [
                {
                    "name": "stdout",
                    "output_type": "stream",
                    "text": [
                        "\n",
                        "A sequential array with steps of 5:\n",
                        " [ 0  5 10 15 20 25]\n"
                    ]
                }
            ],
            "source": [
                "f = np.arange(0, 30, 5)                       # start : end : step_size\n",
                "print (\"\nA sequential array with steps of 5:\n\", f) "
            ]
        },
        {
            "cell_type": "code",
            "execution_count": 20,
            "metadata": {},
            "outputs": [
                {
                    "name": "stdout",
                    "output_type": "stream",
                    "text": [
                        "\n",
                        "A sequential array with 10 values between 0 and 5:\n",
                        " [0.  0.5 1.  1.5 2.  2.5 3.  3.5 4.  4.5 5. ]\n"
                    ]
                }
            ],
            "source": [
                "g = np.linspace(0, 5, 11)          # start : end : total_no_of_points\n",
                "print (\"\nA sequential array with 10 values between 0 and 5:\n\", g) "
            ]
        },
        {
            "cell_type": "code",
            "execution_count": 18,
            "metadata": {},
            "outputs": [],
            "source": [
                "arr = np.array([[1, 2, 3, 4], \n",
                "                [5, 2, 4, 2], \n",
                "                [1, 2, 0, 1]])  "
            ]
        },
        {
            "cell_type": "code",
            "execution_count": 21,
            "metadata": {},
            "outputs": [
                {
                    "name": "stdout",
                    "output_type": "stream",
                    "text": [
                        "\n",
                        "Original array:\n",
                        " [[1 2 3 4]\n",
                        " [5 2 4 2]\n",
                        " [1 2 0 1]]\n",
                        "\n",
                        "Reshaped array:\n",
                        " [[[1 2 3]\n",
                        "  [4 5 2]]\n",
                        "\n",
                        " [[4 2 1]\n",
                        "  [2 0 1]]]\n"
                    ]
                }
            ],
            "source": [
                "newarr = arr.reshape(2, 2, 3) \n",
                "  \n",
                "print (\"\nOriginal array:\n\", arr) \n",
                "print (\"\nReshaped array:\n\", newarr) "
            ]
        },
        {
            "cell_type": "code",
            "execution_count": 23,
            "metadata": {},
            "outputs": [
                {
                    "name": "stdout",
                    "output_type": "stream",
                    "text": [
                        "\n",
                        "Original array:\n",
                        " [[1 2 3]\n",
                        " [4 5 6]]\n",
                        "\n",
                        "Fatterned array:\n",
                        " [1 2 3 4 5 6]\n"
                    ]
                }
            ],
            "source": [
                "arr = np.array([[1, 2, 3], [4, 5, 6]]) \n",
                "flarr = arr.flatten() \n",
                "  \n",
                "print (\"\nOriginal array:\n\", arr) \n",
                "print (\"\nFatterned array:\n\", flarr)"
            ]
        },
        {
            "cell_type": "code",
            "execution_count": 24,
            "metadata": {},
            "outputs": [
                {
                    "name": "stdout",
                    "output_type": "stream",
                    "text": [
                        "Array with first 2 rows and alternate columns(0 and 2):\n",
                        " [[-1.  0.]\n",
                        " [ 4.  6.]]\n"
                    ]
                }
            ],
            "source": [
                "arr = np.array([[-1, 2, 0, 4], \n",
                "                [4, -0.5, 6, 0], \n",
                "                [2.6, 0, 7, 8], \n",
                "                [3, -7, 4, 2.0]]) \n",
                "  \n",
                "temp = arr[:2, ::2] \n",
                "print (\"Array with first 2 rows and alternate columns(0 and 2):\n\", temp) "
            ]
        },
        {
            "cell_type": "code",
            "execution_count": null,
            "metadata": {},
            "outputs": [],
            "source": []
        },
        {
            "cell_type": "code",
            "execution_count": 25,
            "metadata": {},
            "outputs": [
                {
                    "name": "stdout",
                    "output_type": "stream",
                    "text": [
                        "\n",
                        "Elements at indices (0, 3), (1, 2), (2, 1), (3, 0):\n",
                        " [4. 6. 0. 3.]\n"
                    ]
                }
            ],
            "source": [
                "temp = arr[[0, 1, 2, 3], [3, 2, 1, 0]] \n",
                "print (\"\nElements at indices (0, 3), (1, 2), (2, 1), (3, 0):\n\", temp) "
            ]
        },
        {
            "cell_type": "code",
            "execution_count": 26,
            "metadata": {},
            "outputs": [
                {
                    "name": "stdout",
                    "output_type": "stream",
                    "text": [
                        "\n",
                        "Elements greater than 0:\n",
                        " [2.  4.  4.  6.  2.6 7.  8.  3.  4.  2. ]\n"
                    ]
                }
            ],
            "source": [
                "cond = arr > 0           # cond is a boolean array \n",
                "temp = arr[cond] \n",
                "print (\"\nElements greater than 0:\n\", temp) "
            ]
        },
        {
            "cell_type": "code",
            "execution_count": 27,
            "metadata": {},
            "outputs": [],
            "source": [
                "a = np.array([1, 2, 5, 3]) "
            ]
        },
        {
            "cell_type": "code",
            "execution_count": 28,
            "metadata": {},
            "outputs": [
                {
                    "name": "stdout",
                    "output_type": "stream",
                    "text": [
                        "Adding 1 to every element: [2 3 6 4]\n"
                    ]
                }
            ],
            "source": [
                "print (\"Adding 1 to every element:\", a+1) "
            ]
        },
        {
            "cell_type": "code",
            "execution_count": 29,
            "metadata": {},
            "outputs": [
                {
                    "name": "stdout",
                    "output_type": "stream",
                    "text": [
                        "Subtracting 3 from each element: [-2 -1  2  0]\n"
                    ]
                }
            ],
            "source": [
                "print (\"Subtracting 3 from each element:\", a-3) "
            ]
        },
        {
            "cell_type": "code",
            "execution_count": 30,
            "metadata": {},
            "outputs": [
                {
                    "name": "stdout",
                    "output_type": "stream",
                    "text": [
                        "Multiplying each element by 10: [10 20 50 30]\n"
                    ]
                }
            ],
            "source": [
                "print (\"Multiplying each element by 10:\", a*10) "
            ]
        },
        {
            "cell_type": "code",
            "execution_count": 31,
            "metadata": {},
            "outputs": [
                {
                    "name": "stdout",
                    "output_type": "stream",
                    "text": [
                        "Squaring each element: [ 1  4 25  9]\n"
                    ]
                }
            ],
            "source": [
                "print (\"Squaring each element:\", a**2) "
            ]
        },
        {
            "cell_type": "code",
            "execution_count": 32,
            "metadata": {},
            "outputs": [
                {
                    "name": "stdout",
                    "output_type": "stream",
                    "text": [
                        "Doubled each element of original array: [ 2  4 10  6]\n"
                    ]
                }
            ],
            "source": [
                "a *= 2\n",
                "print (\"Doubled each element of original array:\", a) "
            ]
        },
        {
            "cell_type": "code",
            "execution_count": 33,
            "metadata": {},
            "outputs": [
                {
                    "name": "stdout",
                    "output_type": "stream",
                    "text": [
                        "\n",
                        "Original array:\n",
                        " [[1 2 3]\n",
                        " [3 4 5]\n",
                        " [9 6 0]]\n",
                        "Transpose of array:\n",
                        " [[1 3 9]\n",
                        " [2 4 6]\n",
                        " [3 5 0]]\n"
                    ]
                }
            ],
            "source": [
                "a = np.array([[1, 2, 3], [3, 4, 5], [9, 6, 0]]) \n",
                "print (\"\nOriginal array:\n\", a) \n",
                "print (\"Transpose of array:\n\", a.T) "
            ]
        },
        {
            "cell_type": "code",
            "execution_count": 34,
            "metadata": {},
            "outputs": [],
            "source": [
                "arr = np.array([[1, 5, 6], \n",
                "                [4, 7, 2], \n",
                "                [3, 1, 9]])"
            ]
        },
        {
            "cell_type": "code",
            "execution_count": 35,
            "metadata": {},
            "outputs": [
                {
                    "name": "stdout",
                    "output_type": "stream",
                    "text": [
                        "Largest element is: 9\n"
                    ]
                }
            ],
            "source": [
                "print (\"Largest element is:\", arr.max()) "
            ]
        },
        {
            "cell_type": "code",
            "execution_count": 36,
            "metadata": {},
            "outputs": [
                {
                    "name": "stdout",
                    "output_type": "stream",
                    "text": [
                        "Row-wise maximum elements: [6 7 9]\n"
                    ]
                }
            ],
            "source": [
                "print (\"Row-wise maximum elements:\", arr.max(axis = 1)) "
            ]
        },
        {
            "cell_type": "code",
            "execution_count": 37,
            "metadata": {},
            "outputs": [
                {
                    "name": "stdout",
                    "output_type": "stream",
                    "text": [
                        "Column-wise minimum elements: [1 1 2]\n"
                    ]
                }
            ],
            "source": [
                "print (\"Column-wise minimum elements:\", arr.min(axis = 0)) "
            ]
        },
        {
            "cell_type": "code",
            "execution_count": 38,
            "metadata": {},
            "outputs": [
                {
                    "name": "stdout",
                    "output_type": "stream",
                    "text": [
                        "Sum of all array elements: 38\n"
                    ]
                }
            ],
            "source": [
                "print (\"Sum of all array elements:\", arr.sum()) "
            ]
        },
        {
            "cell_type": "code",
            "execution_count": 39,
            "metadata": {},
            "outputs": [
                {
                    "name": "stdout",
                    "output_type": "stream",
                    "text": [
                        "Cumulative sum along each row:\n",
                        " [[ 1  6 12]\n",
                        " [ 4 11 13]\n",
                        " [ 3  4 13]]\n"
                    ]
                }
            ],
            "source": [
                "print (\"Cumulative sum along each row:\n\", arr.cumsum(axis = 1)) "
            ]
        },
        {
            "cell_type": "code",
            "execution_count": 40,
            "metadata": {},
            "outputs": [],
            "source": [
                "a = np.array([[1, 2], [3, 4]]) \n",
                "b = np.array([[4, 3], [2, 1]]) "
            ]
        },
        {
            "cell_type": "code",
            "execution_count": 41,
            "metadata": {},
            "outputs": [
                {
                    "name": "stdout",
                    "output_type": "stream",
                    "text": [
                        "Array sum:\n",
                        " [[5 5]\n",
                        " [5 5]]\n"
                    ]
                }
            ],
            "source": [
                "print (\"Array sum:\n\", a + b) "
            ]
        },
        {
            "cell_type": "code",
            "execution_count": 45,
            "metadata": {},
            "outputs": [
                {
                    "name": "stdout",
                    "output_type": "stream",
                    "text": [
                        "Array multiplication:\n",
                        " [[4 6]\n",
                        " [6 4]]\n"
                    ]
                }
            ],
            "source": [
                "print (\"Array multiplication:\n\", a*b) "
            ]
        },
        {
            "cell_type": "code",
            "execution_count": 46,
            "metadata": {},
            "outputs": [
                {
                    "name": "stdout",
                    "output_type": "stream",
                    "text": [
                        "Matrix multiplication:\n",
                        " [[ 8  5]\n",
                        " [20 13]]\n"
                    ]
                }
            ],
            "source": [
                "print (\"Matrix multiplication:\n\", a.dot(b)) "
            ]
        },
        {
            "cell_type": "code",
            "execution_count": null,
            "metadata": {},
            "outputs": [],
            "source": [
                "a = np.array([0, np.pi/2, np.pi])\n",
                "a"
            ]
        },
        {
            "cell_type": "code",
            "execution_count": null,
            "metadata": {},
            "outputs": [],
            "source": [
                "print (\"Sine values of array elements:\", np.sin(a))"
            ]
        },
        {
            "cell_type": "code",
            "execution_count": null,
            "metadata": {},
            "outputs": [],
            "source": [
                "a = np.array([0, 1, 2, 3]) \n",
                "print (\"Exponent of array elements:\", np.exp(a)) "
            ]
        },
        {
            "cell_type": "code",
            "execution_count": null,
            "metadata": {},
            "outputs": [],
            "source": [
                "print (\"Square root of array elements:\", np.sqrt(a))"
            ]
        },
        {
            "cell_type": "code",
            "execution_count": null,
            "metadata": {},
            "outputs": [],
            "source": [
                "a = np.array([[1, 4, 2], [3, 4, 6], [0, -1, 5]], dtype='float') \n",
                "a"
            ]
        },
        {
            "cell_type": "code",
            "execution_count": null,
            "metadata": {},
            "outputs": [],
            "source": [
                "print (\"Array elements in sorted order:\n\", np.sort(a)) "
            ]
        },
        {
            "cell_type": "code",
            "execution_count": null,
            "metadata": {},
            "outputs": [],
            "source": [
                "print (\"Array elements in sorted order:\n\", np.sort(a, axis=None)) "
            ]
        },
        {
            "cell_type": "code",
            "execution_count": null,
            "metadata": {},
            "outputs": [],
            "source": [
                "print (\"Row-wise sorted array:\n\", np.sort(a, axis = 1))"
            ]
        },
        {
            "cell_type": "code",
            "execution_count": null,
            "metadata": {},
            "outputs": [],
            "source": [
                "print (\"Column wise sort by applying merge-sort:\n\",\n",
                "       np.sort(a, axis = 0, kind = 'mergesort')) "
            ]
        },
        {
            "cell_type": "code",
            "execution_count": 47,
            "metadata": {},
            "outputs": [
                {
                    "data": {
                        "text/plain": [
                            "array([(b'Hrithik', 2009, 8.5), (b'Ajay', 2008, 8.7),\n",
                            "       (b'Pankaj', 2008, 7.9), (b'Aakash', 2009, 9. )],\n",
                            "      dtype=[('name', 'S10'), ('grad_year', '<i4'), ('cgpa', '<f8')])"
                        ]
                    },
                    "execution_count": 47,
                    "metadata": {},
                    "output_type": "execute_result"
                }
            ],
            "source": [
                "dtypes = [('name', 'S10'), ('grad_year', int), ('cgpa', float)] \n",
                "  \n",
                "values = [('Hrithik', 2009, 8.5), ('Ajay', 2008, 8.7),  \n",
                "           ('Pankaj', 2008, 7.9), ('Aakash', 2009, 9.0)] \n",
                "             \n",
                "arr = np.array(values, dtype = dtypes) \n",
                "arr"
            ]
        },
        {
            "cell_type": "code",
            "execution_count": null,
            "metadata": {},
            "outputs": [],
            "source": [
                "print (\"\nArray sorted by names:\n\", np.sort(arr, order = 'name')) \n",
                "              \n",
                "print (\"Array sorted by grauation year and then cgpa:\n\", \n",
                "       np.sort(arr, order = ['grad_year', 'cgpa'])) "
            ]
        },
        {
            "cell_type": "code",
            "execution_count": null,
            "metadata": {},
            "outputs": [],
            "source": []
        }
    ],
    "metadata": {
        "kernelspec": {
            "display_name": "Python 3",
            "language": "python",
            "name": "python3"
        },
        "language_info": {
            "codemirror_mode": {
                "name": "ipython",
                "version": 3
            },
            "file_extension": ".py",
            "mimetype": "text/x-python",
            "name": "python",
            "nbconvert_exporter": "python",
            "pygments_lexer": "ipython3",
            "version": "3.6.4"
        }
    },
    "nbformat": 4,
    "nbformat_minor": 2
}
